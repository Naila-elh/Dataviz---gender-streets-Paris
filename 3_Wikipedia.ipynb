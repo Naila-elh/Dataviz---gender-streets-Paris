{
 "cells": [
  {
   "cell_type": "code",
   "execution_count": 1,
   "metadata": {
    "ExecuteTime": {
     "end_time": "2020-04-07T11:08:59.215087Z",
     "start_time": "2020-04-07T11:08:58.278245Z"
    }
   },
   "outputs": [],
   "source": [
    "from bs4 import BeautifulSoup\n",
    "import requests\n",
    "import pandas as pd"
   ]
  },
  {
   "cell_type": "code",
   "execution_count": 2,
   "metadata": {
    "ExecuteTime": {
     "end_time": "2020-04-07T11:09:00.063402Z",
     "start_time": "2020-04-07T11:08:59.915218Z"
    }
   },
   "outputs": [],
   "source": [
    "df = pd.read_csv('Data/df_clean.csv', sep=';', index_col=0)"
   ]
  },
  {
   "cell_type": "code",
   "execution_count": 3,
   "metadata": {
    "ExecuteTime": {
     "end_time": "2020-04-07T11:09:00.204053Z",
     "start_time": "2020-04-07T11:09:00.171932Z"
    }
   },
   "outputs": [],
   "source": [
    "def to_lower():\n",
    "    for col in ['NOM de VOIE', 'HISTORIQUE', 'Libellé VOIE']:\n",
    "        df[col] = df[col].str.lower()\n",
    "to_lower()"
   ]
  },
  {
   "cell_type": "markdown",
   "metadata": {},
   "source": [
    "# 1. Charger données Wikipedia"
   ]
  },
  {
   "cell_type": "code",
   "execution_count": 4,
   "metadata": {
    "ExecuteTime": {
     "end_time": "2020-04-07T11:09:01.313128Z",
     "start_time": "2020-04-07T11:09:00.854407Z"
    }
   },
   "outputs": [],
   "source": [
    "website_url = requests.get('https://fr.wikipedia.org/wiki/Liste_des_voies_de_Paris_se_r%C3%A9f%C3%A9rant_%C3%A0_un_nom_de_femme').text\n",
    "soup = BeautifulSoup(website_url,'lxml')\n",
    "tables = soup.find_all('table',class_=\"wikitable\")"
   ]
  },
  {
   "cell_type": "code",
   "execution_count": 5,
   "metadata": {
    "ExecuteTime": {
     "end_time": "2020-04-07T11:09:01.324942Z",
     "start_time": "2020-04-07T11:09:01.314967Z"
    }
   },
   "outputs": [],
   "source": [
    "def export_wiki_table(table, table_name) :\n",
    "    voies = []\n",
    "    eponymes = []\n",
    "    arrondissements = []\n",
    "    dates=[]\n",
    "    for tr in table.find_all('tr'):\n",
    "            tds = tr.find_all('td')\n",
    "            if not tds:\n",
    "                continue\n",
    "            if len(tds)==3:\n",
    "                voie, eponyme, arrondissement = [td.text.strip() for td in tds]\n",
    "            else : \n",
    "                voie, eponyme, arrondissement, date = [td.text.strip() for td in tds]\n",
    "            voies.append(voie)\n",
    "            eponymes.append(eponyme)\n",
    "            arrondissements.append(arrondissement)\n",
    "            if len(tds)==4:\n",
    "                dates.append(date)\n",
    "    if len(tds)==3:\n",
    "        export_df = pd.DataFrame(list(zip(voies, eponymes,arrondissements)), \n",
    "                                columns =['Voies', 'Eponymes', 'Arrondissements'])\n",
    "    else: \n",
    "        export_df = pd.DataFrame(list(zip(voies, eponymes,arrondissements, dates)), \n",
    "                                columns =['Voies', 'Eponymes', 'Arrondissements', 'Date'])\n",
    "    export_df['Origine rue'] = table_name\n",
    "    return(export_df)"
   ]
  },
  {
   "cell_type": "code",
   "execution_count": 6,
   "metadata": {
    "ExecuteTime": {
     "end_time": "2020-04-07T11:09:01.878056Z",
     "start_time": "2020-04-07T11:09:01.844119Z"
    }
   },
   "outputs": [],
   "source": [
    "table_pers=export_wiki_table(tables[0], \"Personnalités\")\n",
    "table_proprio=export_wiki_table(tables[1], \"Famille de propriétaires\")\n",
    "table_relig=export_wiki_table(tables[2], \"Religion\")\n",
    "table_div=export_wiki_table(tables[3], \"Divers\")\n",
    "df_women = pd.concat([table_pers, table_proprio, table_relig, table_div], axis=0, sort=False).reset_index(drop=True)"
   ]
  },
  {
   "cell_type": "code",
   "execution_count": 7,
   "metadata": {
    "ExecuteTime": {
     "end_time": "2020-04-07T11:09:02.295449Z",
     "start_time": "2020-04-07T11:09:02.267526Z"
    }
   },
   "outputs": [],
   "source": [
    "# Cleaning \n",
    "for col in ['Voies', 'Eponymes']:\n",
    "    df_women[col] = df_women[col].str.lower()\n",
    "\n",
    "df_women['Voies'] = df_women['Voies'].astype(str).apply(lambda x: x.replace('-', ' '))\n",
    "df_women['Voies'] = df_women['Voies'].astype(str).apply(lambda x: x.replace('œ', 'oe'))\n",
    "df_women['Voies'] = df_women['Voies'].astype(str).apply(lambda x: x.replace('et ', ''))\n",
    "df_women['Voies'] = df_women['Voies'].astype(str).apply(lambda x: x.replace('á', 'a'))\n",
    "\n",
    "    \n",
    "# Ajouter infos supplémentaires quand c'est possible\n",
    "df_women.loc[df_women.index==2, 'Origine_rue'] = 'actrice'\n",
    "df_women.loc[df_women.index==23, 'Date_personnalité'] = '1648-1723'\n",
    "\n",
    "# A nettoyer: fautes d'orthographe\n",
    "df_women.loc[df_women['Voies'].str.contains('veil'), 'Voies'] = \"place de l'europe simone veil\"\n",
    "df_women.loc[df_women['Voies'].str.contains('viera'), 'Voies'] = \"rue maria helena vieira da silva\"\n"
   ]
  },
  {
   "cell_type": "code",
   "execution_count": 8,
   "metadata": {
    "ExecuteTime": {
     "end_time": "2020-04-07T11:09:03.269078Z",
     "start_time": "2020-04-07T11:09:03.175995Z"
    }
   },
   "outputs": [],
   "source": [
    "# Clean quelques noms\n",
    "df.loc[df['Libellé VOIE'].str.contains('desbordes'), 'Libellé VOIE'] = 'rue marceline desbordes valmore'\n",
    "df.loc[df['Libellé VOIE'].str.contains('dury'), 'Libellé VOIE'] = 'villa hortense dury vasselon'\n",
    "df.loc[df['Libellé VOIE'].str.contains('heyman'), 'Libellé VOIE'] = 'parvis claire heyman maria errazuriz'\n",
    "df.loc[df['Libellé VOIE'].str.contains('auvergne'), 'Libellé VOIE'] = df.loc[df['Libellé VOIE'].str.contains('auvergne'), 'Libellé VOIE'].astype(str).apply(lambda x: x.replace(\"de la tour d'auvergne\", \"louise émilie de la tour d'auvergne\"))\n",
    "df.loc[df['Libellé VOIE'].str.contains('skobtsov'), 'Libellé VOIE'] = 'rue mère marie skobtsov'\n",
    "df.loc[df['Libellé VOIE'].str.contains('mercouri'), 'Libellé VOIE'] = 'place melina mercouri'\n",
    "df.loc[df['Libellé VOIE'].str.contains('millerde'), 'Libellé VOIE'] = 'avenue anne eugénie millerde brou'\n",
    "df.loc[df['Libellé VOIE'].str.contains('moreau evrard'), 'Libellé VOIE'] = 'terrasse émilienne moreau évrard'\n",
    "df.loc[df['Libellé VOIE'].str.contains('rue récamier'), 'Libellé VOIE'] = 'rue juliette récamier'\n",
    "df.loc[df['Libellé VOIE'].str.contains('rochechouart'), 'Libellé VOIE'] = df.loc[df['Libellé VOIE'].str.contains('rochechouart'), 'Libellé VOIE'].astype(str).apply(lambda x: x.replace('de rochechouart', \"marguerite de rochechouart\"))\n",
    "df.loc[df['Libellé VOIE'].str.contains('staël'), 'Libellé VOIE'] = 'rue germaine de staël'\n",
    "df.loc[df['Libellé VOIE'].str.contains('marie claude vaillant'), 'Libellé VOIE'] = 'place marie claude vaillant couturier pierre villon'\n",
    "df.loc[df['Libellé VOIE'].str.contains('tréfouel'), 'Libellé VOIE'] = 'place jacques thérèse tréfouël'\n",
    "df.loc[df['Libellé VOIE'].str.contains('vigée'), 'Libellé VOIE'] = 'rue élisabeth vigée le brun'\n"
   ]
  },
  {
   "cell_type": "markdown",
   "metadata": {},
   "source": [
    "# 2. Merger"
   ]
  },
  {
   "cell_type": "code",
   "execution_count": 9,
   "metadata": {
    "ExecuteTime": {
     "end_time": "2020-04-07T11:09:04.058061Z",
     "start_time": "2020-04-07T11:09:04.008197Z"
    }
   },
   "outputs": [],
   "source": [
    "df = pd.merge(df, df_women, how='left', left_on='Libellé VOIE', right_on='Voies', copy=False)\n",
    "df = df.drop_duplicates(subset='Libellé VOIE')\n",
    "#len(df.loc[test_merge['Libellé VOIE'].isna()])"
   ]
  },
  {
   "cell_type": "code",
   "execution_count": 10,
   "metadata": {
    "ExecuteTime": {
     "end_time": "2020-04-07T11:09:04.501681Z",
     "start_time": "2020-04-07T11:09:04.461642Z"
    }
   },
   "outputs": [],
   "source": [
    "df.loc[~df[\"Voies\"].isna(), \"Femme\"] = 1"
   ]
  },
  {
   "cell_type": "code",
   "execution_count": 11,
   "metadata": {
    "ExecuteTime": {
     "end_time": "2020-04-07T11:09:04.837885Z",
     "start_time": "2020-04-07T11:09:04.814908Z"
    }
   },
   "outputs": [],
   "source": [
    "# Ajout à la main : LABELLISER TOUS LES SAINTS\n",
    "df.loc[(df['Libellé VOIE'].str.contains('sainte foy')), 'Femme'] = 1\n",
    "df.loc[(df['Libellé VOIE'].str.contains('sainte foy')), 'Origine rue'] = \"Religion\""
   ]
  },
  {
   "cell_type": "code",
   "execution_count": 12,
   "metadata": {
    "ExecuteTime": {
     "end_time": "2020-04-07T11:09:05.144088Z",
     "start_time": "2020-04-07T11:09:05.127139Z"
    }
   },
   "outputs": [
    {
     "data": {
      "text/plain": [
       "331"
      ]
     },
     "execution_count": 12,
     "metadata": {},
     "output_type": "execute_result"
    }
   ],
   "source": [
    "len(df.loc[df['Femme']==1])"
   ]
  },
  {
   "cell_type": "code",
   "execution_count": 13,
   "metadata": {
    "ExecuteTime": {
     "end_time": "2020-04-07T11:09:05.655529Z",
     "start_time": "2020-04-07T11:09:05.647529Z"
    }
   },
   "outputs": [],
   "source": [
    "# Correction : les femmes qui n'avaient pas été labellisées comme des personnes\n",
    "df.loc[df['Femme']==1, 'bool_personne']=1"
   ]
  },
  {
   "cell_type": "markdown",
   "metadata": {},
   "source": [
    "# 3. Petits clean"
   ]
  },
  {
   "cell_type": "code",
   "execution_count": 14,
   "metadata": {
    "ExecuteTime": {
     "end_time": "2020-04-07T11:09:07.503542Z",
     "start_time": "2020-04-07T11:09:07.493568Z"
    }
   },
   "outputs": [],
   "source": [
    "df.loc[(df['bool_personne']==1) & df['Femme'].isna(), 'Homme']=1"
   ]
  },
  {
   "cell_type": "code",
   "execution_count": 15,
   "metadata": {
    "ExecuteTime": {
     "end_time": "2020-04-07T11:09:08.729858Z",
     "start_time": "2020-04-07T11:09:08.710909Z"
    }
   },
   "outputs": [],
   "source": [
    "df.loc[df['Homme']==1,'Sexe'] = 'M'\n",
    "df.loc[df['Femme']==1, 'Sexe'] = 'F'"
   ]
  },
  {
   "cell_type": "code",
   "execution_count": 16,
   "metadata": {
    "ExecuteTime": {
     "end_time": "2020-04-07T11:09:09.374811Z",
     "start_time": "2020-04-07T11:09:09.367797Z"
    }
   },
   "outputs": [
    {
     "data": {
      "text/plain": [
       "M    3514\n",
       "F     331\n",
       "Name: Sexe, dtype: int64"
      ]
     },
     "execution_count": 16,
     "metadata": {},
     "output_type": "execute_result"
    }
   ],
   "source": [
    "df['Sexe'].value_counts()"
   ]
  },
  {
   "cell_type": "code",
   "execution_count": 17,
   "metadata": {
    "ExecuteTime": {
     "end_time": "2020-04-07T11:09:10.935576Z",
     "start_time": "2020-04-07T11:09:10.928605Z"
    }
   },
   "outputs": [
    {
     "data": {
      "text/plain": [
       "actrice    1\n",
       "Name: Origine_rue, dtype: int64"
      ]
     },
     "execution_count": 17,
     "metadata": {},
     "output_type": "execute_result"
    }
   ],
   "source": [
    "# Ajouter profession des femmes si non ajouté\n",
    "df['Origine_rue'].value_counts()"
   ]
  },
  {
   "cell_type": "code",
   "execution_count": 18,
   "metadata": {
    "ExecuteTime": {
     "end_time": "2020-04-07T11:09:15.172079Z",
     "start_time": "2020-04-07T11:09:15.159114Z"
    }
   },
   "outputs": [],
   "source": [
    "df.loc[df['JOB1'].isna(), 'JOB1'] = df['Origine_rue']\n",
    "df.loc[df['JOB1'].isna(), 'JOB1'] = df['Origine rue']"
   ]
  },
  {
   "cell_type": "code",
   "execution_count": 22,
   "metadata": {
    "ExecuteTime": {
     "end_time": "2020-04-07T11:10:03.047783Z",
     "start_time": "2020-04-07T11:10:03.027823Z"
    }
   },
   "outputs": [],
   "source": [
    "# Certaines femmes reines ne sont pas comptées\n",
    "df.loc[(df['NOM de VOIE'].str.startswith('reine')), 'Sexe'] = 'F'\n",
    "df.loc[(df['NOM de VOIE'].str.startswith('reine')), 'JOBS_list'] = \"['reine']\""
   ]
  },
  {
   "cell_type": "code",
   "execution_count": 24,
   "metadata": {
    "ExecuteTime": {
     "end_time": "2020-04-07T11:10:12.741067Z",
     "start_time": "2020-04-07T11:10:12.516351Z"
    }
   },
   "outputs": [],
   "source": [
    "df.to_csv('Data/df_final.csv', sep=';')"
   ]
  },
  {
   "cell_type": "code",
   "execution_count": null,
   "metadata": {},
   "outputs": [],
   "source": []
  }
 ],
 "metadata": {
  "kernelspec": {
   "display_name": "Python 3",
   "language": "python",
   "name": "python3"
  },
  "language_info": {
   "codemirror_mode": {
    "name": "ipython",
    "version": 3
   },
   "file_extension": ".py",
   "mimetype": "text/x-python",
   "name": "python",
   "nbconvert_exporter": "python",
   "pygments_lexer": "ipython3",
   "version": "3.7.3"
  }
 },
 "nbformat": 4,
 "nbformat_minor": 2
}
