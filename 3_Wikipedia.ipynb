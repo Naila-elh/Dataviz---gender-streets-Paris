{
 "cells": [
  {
   "cell_type": "code",
   "execution_count": 57,
   "metadata": {
    "ExecuteTime": {
     "end_time": "2020-04-01T15:07:32.767810Z",
     "start_time": "2020-04-01T15:07:32.762861Z"
    }
   },
   "outputs": [],
   "source": [
    "from bs4 import BeautifulSoup\n",
    "import requests\n",
    "import pandas as pd"
   ]
  },
  {
   "cell_type": "code",
   "execution_count": 58,
   "metadata": {
    "ExecuteTime": {
     "end_time": "2020-04-01T15:07:33.245995Z",
     "start_time": "2020-04-01T15:07:33.134178Z"
    }
   },
   "outputs": [],
   "source": [
    "df = pd.read_csv('Data/df_clean.csv', sep=';', index_col=0)"
   ]
  },
  {
   "cell_type": "code",
   "execution_count": 59,
   "metadata": {
    "ExecuteTime": {
     "end_time": "2020-04-01T15:07:33.623842Z",
     "start_time": "2020-04-01T15:07:33.592924Z"
    }
   },
   "outputs": [],
   "source": [
    "def to_lower():\n",
    "    for col in ['NOM de VOIE', 'HISTORIQUE', 'Libellé VOIE']:\n",
    "        df[col] = df[col].str.lower()\n",
    "to_lower()"
   ]
  },
  {
   "cell_type": "markdown",
   "metadata": {},
   "source": [
    "# 1. Charger données Wikipedia"
   ]
  },
  {
   "cell_type": "code",
   "execution_count": 60,
   "metadata": {
    "ExecuteTime": {
     "end_time": "2020-04-01T15:07:48.659916Z",
     "start_time": "2020-04-01T15:07:35.867018Z"
    }
   },
   "outputs": [],
   "source": [
    "website_url = requests.get('https://fr.wikipedia.org/wiki/Liste_des_voies_de_Paris_se_r%C3%A9f%C3%A9rant_%C3%A0_un_nom_de_femme').text\n",
    "soup = BeautifulSoup(website_url,'lxml')\n",
    "tables = soup.find_all('table',class_=\"wikitable\")"
   ]
  },
  {
   "cell_type": "code",
   "execution_count": 61,
   "metadata": {
    "ExecuteTime": {
     "end_time": "2020-04-01T15:07:48.669718Z",
     "start_time": "2020-04-01T15:07:48.661739Z"
    }
   },
   "outputs": [],
   "source": [
    "def export_wiki_table(table, table_name) :\n",
    "    voies = []\n",
    "    eponymes = []\n",
    "    arrondissements = []\n",
    "    dates=[]\n",
    "    for tr in table.find_all('tr'):\n",
    "            tds = tr.find_all('td')\n",
    "            if not tds:\n",
    "                continue\n",
    "            if len(tds)==3:\n",
    "                voie, eponyme, arrondissement = [td.text.strip() for td in tds]\n",
    "            else : \n",
    "                voie, eponyme, arrondissement, date = [td.text.strip() for td in tds]\n",
    "            voies.append(voie)\n",
    "            eponymes.append(eponyme)\n",
    "            arrondissements.append(arrondissement)\n",
    "            if len(tds)==4:\n",
    "                dates.append(date)\n",
    "    if len(tds)==3:\n",
    "        export_df = pd.DataFrame(list(zip(voies, eponymes,arrondissements)), \n",
    "                                columns =['Voies', 'Eponymes', 'Arrondissements'])\n",
    "    else: \n",
    "        export_df = pd.DataFrame(list(zip(voies, eponymes,arrondissements, dates)), \n",
    "                                columns =['Voies', 'Eponymes', 'Arrondissements', 'Date'])\n",
    "    export_df['Origine rue'] = table_name\n",
    "    return(export_df)"
   ]
  },
  {
   "cell_type": "code",
   "execution_count": 62,
   "metadata": {
    "ExecuteTime": {
     "end_time": "2020-04-01T15:07:48.711427Z",
     "start_time": "2020-04-01T15:07:48.671713Z"
    }
   },
   "outputs": [],
   "source": [
    "table_pers=export_wiki_table(tables[0], \"Personnalités\")\n",
    "table_proprio=export_wiki_table(tables[1], \"Famille de propriétaires\")\n",
    "table_relig=export_wiki_table(tables[2], \"Religion\")\n",
    "table_div=export_wiki_table(tables[3], \"Divers\")\n",
    "df_women = pd.concat([table_pers, table_proprio, table_relig, table_div], axis=0, sort=False).reset_index(drop=True)"
   ]
  },
  {
   "cell_type": "code",
   "execution_count": 63,
   "metadata": {
    "ExecuteTime": {
     "end_time": "2020-04-01T15:07:48.737390Z",
     "start_time": "2020-04-01T15:07:48.713411Z"
    }
   },
   "outputs": [],
   "source": [
    "# Cleaning \n",
    "for col in ['Voies', 'Eponymes']:\n",
    "    df_women[col] = df_women[col].str.lower()\n",
    "\n",
    "df_women['Voies'] = df_women['Voies'].astype(str).apply(lambda x: x.replace('-', ' '))\n",
    "df_women['Voies'] = df_women['Voies'].astype(str).apply(lambda x: x.replace('œ', 'oe'))\n",
    "df_women['Voies'] = df_women['Voies'].astype(str).apply(lambda x: x.replace('et ', ''))\n",
    "df_women['Voies'] = df_women['Voies'].astype(str).apply(lambda x: x.replace('á', 'a'))\n",
    "\n",
    "    \n",
    "# Ajouter infos supplémentaires quand c'est possible\n",
    "df_women.loc[df_women.index==2, 'Origine_rue'] = 'actrice'\n",
    "df_women.loc[df_women.index==23, 'Date_personnalité'] = '1648-1723'\n",
    "\n",
    "# A nettoyer: fautes d'orthographe\n",
    "df_women.loc[df_women['Voies'].str.contains('veil'), 'Voies'] = \"place de l'europe simone veil\"\n",
    "df_women.loc[df_women['Voies'].str.contains('viera'), 'Voies'] = \"rue maria helena vieira da silva\"\n"
   ]
  },
  {
   "cell_type": "code",
   "execution_count": 64,
   "metadata": {
    "ExecuteTime": {
     "end_time": "2020-04-01T15:07:48.842433Z",
     "start_time": "2020-04-01T15:07:48.739342Z"
    }
   },
   "outputs": [],
   "source": [
    "# Clean quelques noms\n",
    "df.loc[df['Libellé VOIE'].str.contains('desbordes'), 'Libellé VOIE'] = 'rue marceline desbordes valmore'\n",
    "df.loc[df['Libellé VOIE'].str.contains('dury'), 'Libellé VOIE'] = 'villa hortense dury vasselon'\n",
    "df.loc[df['Libellé VOIE'].str.contains('heyman'), 'Libellé VOIE'] = 'parvis claire heyman maria errazuriz'\n",
    "df.loc[df['Libellé VOIE'].str.contains('auvergne'), 'Libellé VOIE'] = df.loc[df['Libellé VOIE'].str.contains('auvergne'), 'Libellé VOIE'].astype(str).apply(lambda x: x.replace(\"de la tour d'auvergne\", \"louise émilie de la tour d'auvergne\"))\n",
    "df.loc[df['Libellé VOIE'].str.contains('skobtsov'), 'Libellé VOIE'] = 'rue mère marie skobtsov'\n",
    "df.loc[df['Libellé VOIE'].str.contains('mercouri'), 'Libellé VOIE'] = 'place melina mercouri'\n",
    "df.loc[df['Libellé VOIE'].str.contains('millerde'), 'Libellé VOIE'] = 'avenue anne eugénie millerde brou'\n",
    "df.loc[df['Libellé VOIE'].str.contains('moreau evrard'), 'Libellé VOIE'] = 'terrasse émilienne moreau évrard'\n",
    "df.loc[df['Libellé VOIE'].str.contains('rue récamier'), 'Libellé VOIE'] = 'rue juliette récamier'\n",
    "df.loc[df['Libellé VOIE'].str.contains('rochechouart'), 'Libellé VOIE'] = df.loc[df['Libellé VOIE'].str.contains('rochechouart'), 'Libellé VOIE'].astype(str).apply(lambda x: x.replace('de rochechouart', \"marguerite de rochechouart\"))\n",
    "df.loc[df['Libellé VOIE'].str.contains('staël'), 'Libellé VOIE'] = 'rue germaine de staël'\n",
    "df.loc[df['Libellé VOIE'].str.contains('marie claude vaillant'), 'Libellé VOIE'] = 'place marie claude vaillant couturier pierre villon'\n",
    "df.loc[df['Libellé VOIE'].str.contains('tréfouel'), 'Libellé VOIE'] = 'place jacques thérèse tréfouël'\n",
    "df.loc[df['Libellé VOIE'].str.contains('vigée'), 'Libellé VOIE'] = 'rue élisabeth vigée le brun'\n"
   ]
  },
  {
   "cell_type": "markdown",
   "metadata": {},
   "source": [
    "# 2. Merger"
   ]
  },
  {
   "cell_type": "code",
   "execution_count": 65,
   "metadata": {
    "ExecuteTime": {
     "end_time": "2020-04-01T15:07:52.360494Z",
     "start_time": "2020-04-01T15:07:52.319374Z"
    }
   },
   "outputs": [],
   "source": [
    "df = pd.merge(df, df_women, how='left', left_on='Libellé VOIE', right_on='Voies', copy=False)\n",
    "df = df.drop_duplicates(subset='Libellé VOIE')\n",
    "#len(df.loc[test_merge['Libellé VOIE'].isna()])"
   ]
  },
  {
   "cell_type": "code",
   "execution_count": 66,
   "metadata": {
    "ExecuteTime": {
     "end_time": "2020-04-01T15:07:52.638117Z",
     "start_time": "2020-04-01T15:07:52.577315Z"
    }
   },
   "outputs": [],
   "source": [
    "df.loc[~df[\"Voies\"].isna(), \"Femme\"] = 1"
   ]
  },
  {
   "cell_type": "code",
   "execution_count": 67,
   "metadata": {
    "ExecuteTime": {
     "end_time": "2020-04-01T15:07:52.988913Z",
     "start_time": "2020-04-01T15:07:52.966978Z"
    }
   },
   "outputs": [],
   "source": [
    "# Ajout à la main : LABELLISER TOUS LES SAINTS\n",
    "df.loc[(df['Libellé VOIE'].str.contains('sainte foy')), 'Femme'] = 1\n",
    "df.loc[(df['Libellé VOIE'].str.contains('sainte foy')), 'Origine rue'] = \"Religion\""
   ]
  },
  {
   "cell_type": "code",
   "execution_count": 68,
   "metadata": {
    "ExecuteTime": {
     "end_time": "2020-04-01T15:07:55.992051Z",
     "start_time": "2020-04-01T15:07:55.985107Z"
    }
   },
   "outputs": [
    {
     "data": {
      "text/plain": [
       "331"
      ]
     },
     "execution_count": 68,
     "metadata": {},
     "output_type": "execute_result"
    }
   ],
   "source": [
    "len(df.loc[df['Femme']==1])"
   ]
  },
  {
   "cell_type": "code",
   "execution_count": 69,
   "metadata": {
    "ExecuteTime": {
     "end_time": "2020-04-01T15:07:58.111119Z",
     "start_time": "2020-04-01T15:07:58.094386Z"
    }
   },
   "outputs": [],
   "source": [
    "# Correction : les femmes qui n'avaient pas été labellisées comme des personnes\n",
    "df.loc[df['Femme']==1, 'bool_personne']=1"
   ]
  },
  {
   "cell_type": "markdown",
   "metadata": {},
   "source": [
    "# 3. Petits clean"
   ]
  },
  {
   "cell_type": "code",
   "execution_count": 70,
   "metadata": {
    "ExecuteTime": {
     "end_time": "2020-04-01T15:08:09.388089Z",
     "start_time": "2020-04-01T15:08:09.380112Z"
    }
   },
   "outputs": [],
   "source": [
    "df.loc[(df['bool_personne']==1) & df['Femme'].isna(), 'Homme']=1"
   ]
  },
  {
   "cell_type": "code",
   "execution_count": 71,
   "metadata": {
    "ExecuteTime": {
     "end_time": "2020-04-01T15:09:27.992506Z",
     "start_time": "2020-04-01T15:09:27.975556Z"
    }
   },
   "outputs": [],
   "source": [
    "df.loc[df['Homme']==1,'Sexe'] = 'M'\n",
    "df.loc[df['Femme']==1, 'Sexe'] = 'F'"
   ]
  },
  {
   "cell_type": "code",
   "execution_count": 72,
   "metadata": {
    "ExecuteTime": {
     "end_time": "2020-04-01T15:09:31.759411Z",
     "start_time": "2020-04-01T15:09:31.749437Z"
    }
   },
   "outputs": [
    {
     "data": {
      "text/plain": [
       "M    3514\n",
       "F     331\n",
       "Name: Sexe, dtype: int64"
      ]
     },
     "execution_count": 72,
     "metadata": {},
     "output_type": "execute_result"
    }
   ],
   "source": [
    "df['Sexe'].value_counts()"
   ]
  },
  {
   "cell_type": "code",
   "execution_count": 74,
   "metadata": {
    "ExecuteTime": {
     "end_time": "2020-04-01T15:10:02.379784Z",
     "start_time": "2020-04-01T15:10:02.372802Z"
    }
   },
   "outputs": [
    {
     "data": {
      "text/plain": [
       "actrice    1\n",
       "Name: Origine_rue, dtype: int64"
      ]
     },
     "execution_count": 74,
     "metadata": {},
     "output_type": "execute_result"
    }
   ],
   "source": [
    "# Ajouter profession des femmes si non ajouté\n",
    "df['Origine_rue'].value_counts()"
   ]
  },
  {
   "cell_type": "code",
   "execution_count": 77,
   "metadata": {
    "ExecuteTime": {
     "end_time": "2020-04-01T15:10:55.640431Z",
     "start_time": "2020-04-01T15:10:55.623476Z"
    }
   },
   "outputs": [],
   "source": [
    "df.loc[df['JOB1'].isna(), 'JOB1'] = df['Origine_rue']\n",
    "df.loc[df['JOB1'].isna(), 'JOB1'] = df['Origine rue']"
   ]
  },
  {
   "cell_type": "code",
   "execution_count": 82,
   "metadata": {
    "ExecuteTime": {
     "end_time": "2020-04-01T15:12:17.761150Z",
     "start_time": "2020-04-01T15:12:17.580113Z"
    }
   },
   "outputs": [],
   "source": [
    "df.to_csv('Data/df_final.csv', sep=';')"
   ]
  },
  {
   "cell_type": "code",
   "execution_count": null,
   "metadata": {},
   "outputs": [],
   "source": []
  }
 ],
 "metadata": {
  "kernelspec": {
   "display_name": "Python 3",
   "language": "python",
   "name": "python3"
  },
  "language_info": {
   "codemirror_mode": {
    "name": "ipython",
    "version": 3
   },
   "file_extension": ".py",
   "mimetype": "text/x-python",
   "name": "python",
   "nbconvert_exporter": "python",
   "pygments_lexer": "ipython3",
   "version": "3.7.3"
  }
 },
 "nbformat": 4,
 "nbformat_minor": 2
}
