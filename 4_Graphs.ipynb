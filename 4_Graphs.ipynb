{
 "cells": [
  {
   "cell_type": "code",
   "execution_count": 1,
   "metadata": {
    "ExecuteTime": {
     "end_time": "2020-04-07T14:09:28.878933Z",
     "start_time": "2020-04-07T14:09:27.457733Z"
    }
   },
   "outputs": [],
   "source": [
    "import pandas as pd\n",
    "import urllib\n",
    "import os\n",
    "import string\n",
    "import re\n",
    "import numpy as np"
   ]
  },
  {
   "cell_type": "code",
   "execution_count": 2,
   "metadata": {
    "ExecuteTime": {
     "end_time": "2020-04-07T14:09:29.065434Z",
     "start_time": "2020-04-07T14:09:28.880929Z"
    }
   },
   "outputs": [
    {
     "data": {
      "text/html": [
       "<div>\n",
       "<style scoped>\n",
       "    .dataframe tbody tr th:only-of-type {\n",
       "        vertical-align: middle;\n",
       "    }\n",
       "\n",
       "    .dataframe tbody tr th {\n",
       "        vertical-align: top;\n",
       "    }\n",
       "\n",
       "    .dataframe thead th {\n",
       "        text-align: right;\n",
       "    }\n",
       "</style>\n",
       "<table border=\"1\" class=\"dataframe\">\n",
       "  <thead>\n",
       "    <tr style=\"text-align: right;\">\n",
       "      <th></th>\n",
       "      <th>DATE ARRET</th>\n",
       "      <th>CDGI</th>\n",
       "      <th>QUARTIER</th>\n",
       "      <th>TYPE DE VOIE</th>\n",
       "      <th>PREFIXE de VOIE</th>\n",
       "      <th>NOM de VOIE</th>\n",
       "      <th>Libellé VOIE</th>\n",
       "      <th>CVOIE</th>\n",
       "      <th>HISTORIQUE</th>\n",
       "      <th>Personne</th>\n",
       "      <th>...</th>\n",
       "      <th>Voies</th>\n",
       "      <th>Eponymes</th>\n",
       "      <th>Arrondissements</th>\n",
       "      <th>Origine rue</th>\n",
       "      <th>Date</th>\n",
       "      <th>Origine_rue</th>\n",
       "      <th>Date_personnalité</th>\n",
       "      <th>Femme</th>\n",
       "      <th>Homme</th>\n",
       "      <th>Sexe</th>\n",
       "    </tr>\n",
       "  </thead>\n",
       "  <tbody>\n",
       "    <tr>\n",
       "      <th>0</th>\n",
       "      <td>1864-02-03T00:53:28+00:53</td>\n",
       "      <td>4166</td>\n",
       "      <td>Roquette.</td>\n",
       "      <td>rue</td>\n",
       "      <td>NaN</td>\n",
       "      <td>gerbier</td>\n",
       "      <td>rue gerbier</td>\n",
       "      <td>4112</td>\n",
       "      <td>pierre jean baptiste gerbier (1725-1788), avoc...</td>\n",
       "      <td>Pierre Jean Baptiste Gerbier</td>\n",
       "      <td>...</td>\n",
       "      <td>NaN</td>\n",
       "      <td>NaN</td>\n",
       "      <td>NaN</td>\n",
       "      <td>NaN</td>\n",
       "      <td>NaN</td>\n",
       "      <td>NaN</td>\n",
       "      <td>NaN</td>\n",
       "      <td>NaN</td>\n",
       "      <td>1.0</td>\n",
       "      <td>M</td>\n",
       "    </tr>\n",
       "    <tr>\n",
       "      <th>1</th>\n",
       "      <td>NaN</td>\n",
       "      <td>4994</td>\n",
       "      <td>Saint-Ambroise.</td>\n",
       "      <td>cité</td>\n",
       "      <td>NaN</td>\n",
       "      <td>joly</td>\n",
       "      <td>cité joly</td>\n",
       "      <td>4886</td>\n",
       "      <td>m. joly, propriétaire.</td>\n",
       "      <td>M. Joly</td>\n",
       "      <td>...</td>\n",
       "      <td>NaN</td>\n",
       "      <td>NaN</td>\n",
       "      <td>NaN</td>\n",
       "      <td>NaN</td>\n",
       "      <td>NaN</td>\n",
       "      <td>NaN</td>\n",
       "      <td>NaN</td>\n",
       "      <td>NaN</td>\n",
       "      <td>1.0</td>\n",
       "      <td>M</td>\n",
       "    </tr>\n",
       "    <tr>\n",
       "      <th>2</th>\n",
       "      <td>NaN</td>\n",
       "      <td>5441</td>\n",
       "      <td>Saint-Ambroise.</td>\n",
       "      <td>rue</td>\n",
       "      <td>NaN</td>\n",
       "      <td>léchevin</td>\n",
       "      <td>rue léchevin</td>\n",
       "      <td>5376</td>\n",
       "      <td>m. léchevin, propriétaire.\\nhistorique. ~ avan...</td>\n",
       "      <td>M. Léchevin</td>\n",
       "      <td>...</td>\n",
       "      <td>NaN</td>\n",
       "      <td>NaN</td>\n",
       "      <td>NaN</td>\n",
       "      <td>NaN</td>\n",
       "      <td>NaN</td>\n",
       "      <td>NaN</td>\n",
       "      <td>NaN</td>\n",
       "      <td>NaN</td>\n",
       "      <td>1.0</td>\n",
       "      <td>M</td>\n",
       "    </tr>\n",
       "    <tr>\n",
       "      <th>3</th>\n",
       "      <td>NaN</td>\n",
       "      <td>8208</td>\n",
       "      <td>Folie-Méricourt. Saint-Ambroise. Roquette.</td>\n",
       "      <td>boulevard</td>\n",
       "      <td>NaN</td>\n",
       "      <td>richard lenoir</td>\n",
       "      <td>boulevard richard lenoir</td>\n",
       "      <td>8197</td>\n",
       "      <td>françois richard (1765-1839), manufacturier d'...</td>\n",
       "      <td>François Richard</td>\n",
       "      <td>...</td>\n",
       "      <td>NaN</td>\n",
       "      <td>NaN</td>\n",
       "      <td>NaN</td>\n",
       "      <td>NaN</td>\n",
       "      <td>NaN</td>\n",
       "      <td>NaN</td>\n",
       "      <td>NaN</td>\n",
       "      <td>NaN</td>\n",
       "      <td>1.0</td>\n",
       "      <td>M</td>\n",
       "    </tr>\n",
       "    <tr>\n",
       "      <th>4</th>\n",
       "      <td>1885-10-11T00:53:28+00:53</td>\n",
       "      <td>9057</td>\n",
       "      <td>Saint-Ambroise.</td>\n",
       "      <td>rue</td>\n",
       "      <td>NaN</td>\n",
       "      <td>spinoza</td>\n",
       "      <td>rue spinoza</td>\n",
       "      <td>8671</td>\n",
       "      <td>baruch spinoza (1632-1677), philosophe holland...</td>\n",
       "      <td>Baruch Spinoza</td>\n",
       "      <td>...</td>\n",
       "      <td>NaN</td>\n",
       "      <td>NaN</td>\n",
       "      <td>NaN</td>\n",
       "      <td>NaN</td>\n",
       "      <td>NaN</td>\n",
       "      <td>NaN</td>\n",
       "      <td>NaN</td>\n",
       "      <td>NaN</td>\n",
       "      <td>1.0</td>\n",
       "      <td>M</td>\n",
       "    </tr>\n",
       "  </tbody>\n",
       "</table>\n",
       "<p>5 rows × 39 columns</p>\n",
       "</div>"
      ],
      "text/plain": [
       "                  DATE ARRET  CDGI  \\\n",
       "0  1864-02-03T00:53:28+00:53  4166   \n",
       "1                        NaN  4994   \n",
       "2                        NaN  5441   \n",
       "3                        NaN  8208   \n",
       "4  1885-10-11T00:53:28+00:53  9057   \n",
       "\n",
       "                                     QUARTIER TYPE DE VOIE PREFIXE de VOIE  \\\n",
       "0                                   Roquette.          rue             NaN   \n",
       "1                             Saint-Ambroise.         cité             NaN   \n",
       "2                             Saint-Ambroise.          rue             NaN   \n",
       "3  Folie-Méricourt. Saint-Ambroise. Roquette.    boulevard             NaN   \n",
       "4                             Saint-Ambroise.          rue             NaN   \n",
       "\n",
       "      NOM de VOIE              Libellé VOIE CVOIE  \\\n",
       "0         gerbier               rue gerbier  4112   \n",
       "1            joly                 cité joly  4886   \n",
       "2        léchevin              rue léchevin  5376   \n",
       "3  richard lenoir  boulevard richard lenoir  8197   \n",
       "4         spinoza               rue spinoza  8671   \n",
       "\n",
       "                                          HISTORIQUE  \\\n",
       "0  pierre jean baptiste gerbier (1725-1788), avoc...   \n",
       "1                             m. joly, propriétaire.   \n",
       "2  m. léchevin, propriétaire.\\nhistorique. ~ avan...   \n",
       "3  françois richard (1765-1839), manufacturier d'...   \n",
       "4  baruch spinoza (1632-1677), philosophe holland...   \n",
       "\n",
       "                       Personne  ... Voies  Eponymes Arrondissements  \\\n",
       "0  Pierre Jean Baptiste Gerbier  ...   NaN       NaN             NaN   \n",
       "1                       M. Joly  ...   NaN       NaN             NaN   \n",
       "2                   M. Léchevin  ...   NaN       NaN             NaN   \n",
       "3              François Richard  ...   NaN       NaN             NaN   \n",
       "4                Baruch Spinoza  ...   NaN       NaN             NaN   \n",
       "\n",
       "  Origine rue Date  Origine_rue  Date_personnalité Femme Homme Sexe  \n",
       "0         NaN  NaN          NaN                NaN   NaN   1.0    M  \n",
       "1         NaN  NaN          NaN                NaN   NaN   1.0    M  \n",
       "2         NaN  NaN          NaN                NaN   NaN   1.0    M  \n",
       "3         NaN  NaN          NaN                NaN   NaN   1.0    M  \n",
       "4         NaN  NaN          NaN                NaN   NaN   1.0    M  \n",
       "\n",
       "[5 rows x 39 columns]"
      ]
     },
     "execution_count": 2,
     "metadata": {},
     "output_type": "execute_result"
    }
   ],
   "source": [
    "df=pd.read_csv(\"Data/df_final.csv\", sep=\";\", index_col=0)\n",
    "df.head()"
   ]
  },
  {
   "cell_type": "markdown",
   "metadata": {},
   "source": [
    "# 1. Arrondissements"
   ]
  },
  {
   "cell_type": "markdown",
   "metadata": {},
   "source": [
    "## 1.1. Clean"
   ]
  },
  {
   "cell_type": "markdown",
   "metadata": {},
   "source": [
    "On cherche à compter les rues féminines et masculines par arrondissement. Or, certaines rues sont à la frontière entre plusieurs arrondissements. On va considérer que ces rues sont alors dans les 2 arrondissements - elles seront alors comptées plusieurs fois au total, mais une fois dans chaque arrondissement."
   ]
  },
  {
   "cell_type": "code",
   "execution_count": 3,
   "metadata": {
    "ExecuteTime": {
     "end_time": "2020-04-07T14:09:32.360393Z",
     "start_time": "2020-04-07T14:09:29.067430Z"
    },
    "code_folding": []
   },
   "outputs": [],
   "source": [
    "df_arrondissements = pd.concat([pd.Series(row['Sexe'], row['ARRONDISSEMENT'].split(','))              \n",
    "                    for _, row in df.iterrows()]).reset_index().rename(columns={'index' : 'Arrondissement', 0:'Sexe'})"
   ]
  },
  {
   "cell_type": "code",
   "execution_count": 4,
   "metadata": {
    "ExecuteTime": {
     "end_time": "2020-04-07T14:09:32.389969Z",
     "start_time": "2020-04-07T14:09:32.363271Z"
    }
   },
   "outputs": [],
   "source": [
    "df_arrondissements['Arrondissement'] = df_arrondissements['Arrondissement'].apply(lambda x: x.upper())\n",
    "removed_expressions = [' ', 'E', 'R']\n",
    "for expression in removed_expressions:\n",
    "    df_arrondissements['Arrondissement'] = df_arrondissements['Arrondissement'].apply(lambda x: x.replace(expression, ''))\n",
    "df_arrondissements = df_arrondissements.loc[~ df_arrondissements['Arrondissement'].str.startswith(\"LIMIT\")]"
   ]
  },
  {
   "cell_type": "code",
   "execution_count": 5,
   "metadata": {
    "ExecuteTime": {
     "end_time": "2020-04-07T14:09:32.486812Z",
     "start_time": "2020-04-07T14:09:32.390966Z"
    }
   },
   "outputs": [],
   "source": [
    "def from_roman(num):\n",
    "    roman_numerals = {'I':1, 'V':5, 'X':10, 'L':50, 'C':100, 'D':500, 'M':1000}\n",
    "    try:\n",
    "        result = 0\n",
    "        for i,c in enumerate(num):\n",
    "            if (i+1) == len(num) or roman_numerals[c] >= roman_numerals[num[i+1]]:\n",
    "                result += roman_numerals[c]\n",
    "            else:\n",
    "                result -= roman_numerals[c]\n",
    "    except:\n",
    "        result = int(num)\n",
    "    return result\n",
    "df_arrondissements['Arrondissement_num'] = df_arrondissements['Arrondissement'].apply(lambda x: from_roman(x))\n",
    "df_arrondissements=df_arrondissements.loc[df_arrondissements['Arrondissement_num']!=0]"
   ]
  },
  {
   "cell_type": "markdown",
   "metadata": {},
   "source": [
    "## 1.2. Nombre de rues / sexe par arrondissement"
   ]
  },
  {
   "cell_type": "code",
   "execution_count": 6,
   "metadata": {
    "ExecuteTime": {
     "end_time": "2020-04-07T14:09:32.527098Z",
     "start_time": "2020-04-07T14:09:32.487810Z"
    }
   },
   "outputs": [],
   "source": [
    "df_arrondissements = pd.crosstab(df_arrondissements['Arrondissement_num'], df_arrondissements['Sexe']).reset_index()\n",
    "df_arrondissements.columns.name=None"
   ]
  },
  {
   "cell_type": "code",
   "execution_count": 7,
   "metadata": {
    "ExecuteTime": {
     "end_time": "2020-04-07T14:09:32.572894Z",
     "start_time": "2020-04-07T14:09:32.529009Z"
    }
   },
   "outputs": [],
   "source": [
    "df_arrondissements['Total'] = df_arrondissements[['M', 'F']].sum(axis=1)"
   ]
  },
  {
   "cell_type": "code",
   "execution_count": 8,
   "metadata": {
    "ExecuteTime": {
     "end_time": "2020-04-07T14:09:32.700832Z",
     "start_time": "2020-04-07T14:09:32.581801Z"
    }
   },
   "outputs": [],
   "source": [
    "df_arrondissements['F_percent'] = df_arrondissements['F']/df_arrondissements['Total']*100"
   ]
  },
  {
   "cell_type": "code",
   "execution_count": 9,
   "metadata": {
    "ExecuteTime": {
     "end_time": "2020-04-07T14:09:32.736122Z",
     "start_time": "2020-04-07T14:09:32.711162Z"
    }
   },
   "outputs": [],
   "source": [
    "df_arrondissements[['Arrondissement_num', 'F_percent']].to_csv('data/df_arrondissements.csv')"
   ]
  },
  {
   "cell_type": "markdown",
   "metadata": {},
   "source": [
    "# 2. Quartiers de Paris"
   ]
  },
  {
   "cell_type": "markdown",
   "metadata": {},
   "source": [
    "## 2.1. Clean"
   ]
  },
  {
   "cell_type": "code",
   "execution_count": 10,
   "metadata": {
    "ExecuteTime": {
     "end_time": "2020-04-07T14:09:32.765847Z",
     "start_time": "2020-04-07T14:09:32.739977Z"
    }
   },
   "outputs": [],
   "source": [
    "df_quartier = df\n",
    "# On enlève le point si le quartier finit par un point\n",
    "pattern_finish_point = re.compile('\\.$')\n",
    "df_quartier['Quartier'] = df_quartier['QUARTIER'].apply(lambda x: pattern_finish_point.sub('', x))"
   ]
  },
  {
   "cell_type": "code",
   "execution_count": 11,
   "metadata": {
    "ExecuteTime": {
     "end_time": "2020-04-07T14:09:56.851481Z",
     "start_time": "2020-04-07T14:09:32.765847Z"
    }
   },
   "outputs": [],
   "source": [
    "for punctuation in ['.', ',', ';'] :\n",
    "    df_quartier = pd.concat([pd.Series(row['Sexe'], row['Quartier'].split(punctuation))              \n",
    "                    for _, row in df_quartier.iterrows()]).reset_index().rename(columns={'index' : 'Quartier', 0:'Sexe'})"
   ]
  },
  {
   "cell_type": "code",
   "execution_count": 12,
   "metadata": {
    "ExecuteTime": {
     "end_time": "2020-04-07T14:09:56.926709Z",
     "start_time": "2020-04-07T14:09:56.856347Z"
    }
   },
   "outputs": [],
   "source": [
    "# \"Sur le territoire de...\" à enlever, ce n'est pas un district\n",
    "df_quartier = df_quartier[~df_quartier['Quartier'].str.contains('Sur le|Situé sur')]\n",
    "\n",
    "# Enlever espace au début ; mettre en majuscule ; ajouter '-' entre les mots plutôt que espaces\n",
    "df_quartier['Quartier'] = df_quartier['Quartier'].apply(lambda x: x.strip().title().replace(' ', '-').replace('--', '-'))"
   ]
  },
  {
   "cell_type": "code",
   "execution_count": 13,
   "metadata": {
    "ExecuteTime": {
     "end_time": "2020-04-07T14:09:57.038588Z",
     "start_time": "2020-04-07T14:09:56.928118Z"
    }
   },
   "outputs": [],
   "source": [
    "# Correction à la main des erreurs qu'il reste\n",
    "corrections = {'Folies-Méricourt' : 'Folie-Méricourt',\n",
    "              \"Goutte-D\\x92Or\" : \"Goutte-D'Or\", \n",
    "              \"Hôpit\" : \"Hôpital-Saint-Louis\", \n",
    "              \"La-Villette\" : \"Villette\", \n",
    "              \"Plaine-De-Monceau\" : \"Plaine-De-Monceaux\", \n",
    "              \"Saint-Germain-Des-Pré\" : \"Saint-Germain-Des-Prés\", \n",
    "              \"Épinettes\" : \"Epinettes\", \n",
    "              \"Les-Halles\" : 'Halles',\n",
    "              \"Chapelle\" : \"La Chapelle\", \n",
    "              \"Saint-Germain-L'Auxerrois\" : \"St-Germain-L'Auxerrois\", \n",
    "              'Lambert' : 'Saint-Lambert'}\n",
    "\n",
    "for erreur in corrections.keys():\n",
    "    df_quartier.loc[df_quartier['Quartier']==erreur, 'Quartier'] = corrections.get(erreur)"
   ]
  },
  {
   "cell_type": "markdown",
   "metadata": {},
   "source": [
    "## 2.2. Nombre de rues/sexe par quartier"
   ]
  },
  {
   "cell_type": "code",
   "execution_count": 14,
   "metadata": {
    "ExecuteTime": {
     "end_time": "2020-04-07T14:09:57.109619Z",
     "start_time": "2020-04-07T14:09:57.042527Z"
    }
   },
   "outputs": [],
   "source": [
    "df_quartier = pd.crosstab(df_quartier['Quartier'], df_quartier['Sexe']).reset_index()\n",
    "df_quartier.columns.name=None"
   ]
  },
  {
   "cell_type": "code",
   "execution_count": 15,
   "metadata": {
    "ExecuteTime": {
     "end_time": "2020-04-07T14:09:57.157411Z",
     "start_time": "2020-04-07T14:09:57.113657Z"
    }
   },
   "outputs": [],
   "source": [
    "df_quartier['Total'] = df_quartier[['M', 'F']].sum(axis=1)"
   ]
  },
  {
   "cell_type": "code",
   "execution_count": 16,
   "metadata": {
    "ExecuteTime": {
     "end_time": "2020-04-07T14:09:57.208536Z",
     "start_time": "2020-04-07T14:09:57.161440Z"
    }
   },
   "outputs": [],
   "source": [
    "df_quartier['F_percent'] = df_quartier['F']/df_quartier['Total']*100"
   ]
  },
  {
   "cell_type": "code",
   "execution_count": 17,
   "metadata": {
    "ExecuteTime": {
     "end_time": "2020-04-07T14:09:57.246787Z",
     "start_time": "2020-04-07T14:09:57.211572Z"
    }
   },
   "outputs": [],
   "source": [
    "df_quartier[['Quartier', 'F_percent']].to_csv('data/df_quartier.csv')"
   ]
  },
  {
   "cell_type": "markdown",
   "metadata": {},
   "source": [
    "# 3. Professions"
   ]
  },
  {
   "cell_type": "markdown",
   "metadata": {},
   "source": [
    "## 3.1. Wordsclouds femmes vs hommes"
   ]
  },
  {
   "cell_type": "code",
   "execution_count": 18,
   "metadata": {
    "ExecuteTime": {
     "end_time": "2020-04-07T14:10:00.635769Z",
     "start_time": "2020-04-07T14:09:57.251517Z"
    }
   },
   "outputs": [],
   "source": [
    "import stylecloud"
   ]
  },
  {
   "cell_type": "code",
   "execution_count": 19,
   "metadata": {
    "ExecuteTime": {
     "end_time": "2020-04-07T14:10:00.717024Z",
     "start_time": "2020-04-07T14:10:00.638704Z"
    }
   },
   "outputs": [],
   "source": [
    "for element in ['[', ']', '\"', \"'\"]:\n",
    "    df.loc[~df['JOBS_list'].isna(), 'JOBS_list'] = df.loc[~df['JOBS_list'].isna(), 'JOBS_list'].apply(lambda x: x.replace(element, \"\"))\n",
    "df.loc[~df['JOBS_list'].isna(), 'JOBS_list'] = df.loc[~df['JOBS_list'].isna(), 'JOBS_list'].apply(lambda x: x.split(','))"
   ]
  },
  {
   "cell_type": "code",
   "execution_count": 20,
   "metadata": {
    "ExecuteTime": {
     "end_time": "2020-04-07T14:10:00.765320Z",
     "start_time": "2020-04-07T14:10:00.728241Z"
    }
   },
   "outputs": [],
   "source": [
    "jobs_list_w = [item for sublist in df.loc[(~df['JOBS_list'].isna()) & (df['Sexe']=='F'), 'JOBS_list'].tolist() for item in sublist]\n",
    "jobs_list_w = [x.strip(' ') for x in jobs_list_w]\n",
    "\n",
    "jobs_list_m = [item for sublist in df.loc[(~df['JOBS_list'].isna()) & (df['Sexe']=='M'), 'JOBS_list'].tolist() for item in sublist]\n",
    "jobs_list_m = [x.strip(' ') for x in jobs_list_m]"
   ]
  },
  {
   "cell_type": "code",
   "execution_count": 21,
   "metadata": {
    "ExecuteTime": {
     "end_time": "2020-04-07T14:10:00.870558Z",
     "start_time": "2020-04-07T14:10:00.769822Z"
    }
   },
   "outputs": [],
   "source": [
    "text_f=' '.join(jobs_list_w)\n",
    "text_m=' '.join(jobs_list_m)\n",
    "file = open(\"Wordclouds/text_f.txt\",'w',  encoding=\"utf-8\") \n",
    "file.write(text_f) \n",
    "file.close()\n",
    "file = open(\"Wordclouds/text_m.txt\",'w',  encoding=\"utf-8\") \n",
    "file.write(text_m) \n",
    "file.close()"
   ]
  },
  {
   "cell_type": "code",
   "execution_count": 22,
   "metadata": {
    "ExecuteTime": {
     "end_time": "2020-04-07T14:10:05.008049Z",
     "start_time": "2020-04-07T14:10:00.878103Z"
    },
    "scrolled": false
   },
   "outputs": [],
   "source": [
    "stylecloud.gen_stylecloud(file_path=\"Wordclouds/text_f.txt\", \n",
    "                        icon_name=\"fas fa-female\", \n",
    "                        palette='cartocolors.sequential.Magenta_7')"
   ]
  },
  {
   "cell_type": "code",
   "execution_count": 23,
   "metadata": {
    "ExecuteTime": {
     "end_time": "2020-04-07T14:10:08.821314Z",
     "start_time": "2020-04-07T14:10:05.016098Z"
    }
   },
   "outputs": [],
   "source": [
    "stylecloud.gen_stylecloud(file_path=\"Wordclouds/text_m.txt\", \n",
    "                        icon_name=\"fas fa-male\", \n",
    "                        palette='cmocean.sequential.Ice_15_r')"
   ]
  },
  {
   "cell_type": "markdown",
   "metadata": {},
   "source": [
    "## 3.2. Cleaner les données de jobs?"
   ]
  },
  {
   "cell_type": "code",
   "execution_count": 24,
   "metadata": {
    "ExecuteTime": {
     "end_time": "2020-04-07T14:10:08.839922Z",
     "start_time": "2020-04-07T14:10:08.826447Z"
    }
   },
   "outputs": [],
   "source": [
    "jobs_list = [item for sublist in df.loc[~df['JOBS_list'].isna(), 'JOBS_list'].tolist() for item in sublist]\n",
    "jobs_list = set([x.strip(' ') for x in jobs_list])"
   ]
  },
  {
   "cell_type": "code",
   "execution_count": 25,
   "metadata": {
    "ExecuteTime": {
     "end_time": "2020-04-07T14:10:08.856334Z",
     "start_time": "2020-04-07T14:10:08.843879Z"
    }
   },
   "outputs": [],
   "source": [
    "# Résistants : résistant, otage, résistance, \n",
    "# syndicaliste : syndicaliste, militant\n",
    "# féministe : féministe,\n",
    "# Titre de nobelesse : comte, marquis, duc, vicomte, seigneur, baron\n",
    "\n",
    "\n",
    "# homme politique : homme politique, femme politique, maire, conseiller municipal, conseiller, conseillère, préfet, homme d'etat, homme d'état, \n",
    "                #homme detat, homme détat, ministre, sénateur, empereur, roi, président, prince, ambassadeur, diplomate, \n",
    "                #député, magistrat\n",
    "# Justice : avocat, jurisconsulte, greffier, juriste, notaire\n",
    "# Proprétaire : propriétaire, proprietaire, entrepreneur, concessionnaire, gérant\n",
    "# Artisan/manufacture : manufacturier, industriel, apothicaire, ciseleur, fondeur, graveur, mécanicien, cuisinier, gastronome,\n",
    "        #horticulteur, imprimeur\n",
    "\n",
    "# Intellectuel : écrivain, écrivaine, romancier, lithographe,  littérateur, linguiste, anthropologue, érudit, \n",
    "            #philosophe, lexicographe, poète, sociologue, sociologiste, économiste, critique, auteur, auteure, dramaturge, \n",
    "            #essayiste, homme de lettres, auteur, savant, historien, journaliste, homme de lettres, femme de lettres, calligraphe,\n",
    "            #chroniqueur, fabuliste, helléniste, instituteur, institutrice, poétesse\n",
    "            \n",
    "# Artiste : peintre, graveur, compositeur, compositrice, interprète, dessinateur, dessinatrice, chansonnier, chansonnière, \n",
    "            #tragédien, statuaire, sculpteur, danseur, danseuse, décorateur, femme peintre, illustrateur\n",
    "            # architecte, acteur, actrice, comédien, comédienne, musicien, clarinettiste, guitariste,\n",
    "            #saxophoniste, violoniste, chef d'orchestre, cantatrice, chanteur, chanteuse, caricaturiste, chorégraphe, cinéaste,\n",
    "            #compositrice, facteur, humoriste, jardinier\n",
    "        \n",
    "# Aviateur : aviateur, aviatrice, pilote, corsaire, marin, navigateur\n",
    "# Sportif: champion, gymnastique\n",
    "# Militaire : général, colonel, militaire, amiral, maréchal, officier, capitaine, sergent, lieutenant, gardien de la paix, \n",
    "                # homme de guerre\n",
    "            \n",
    "# Scientifique : mathématicien, physicien, chimiste, minéarologiste, botaniste, explorateur, ingénieur, inventeur, \n",
    "            #aéronaute, naturaliste, voyageur, géologue, agronome, alchimiste, bactériologiste, savant, géographe,\n",
    "            # archéologue,démographe, ethnographe, ethnologue, géomètre, informaticienne, microbiologiste\n",
    "# Médecin : docteur, médecin, chirurgien, neurologue, cancérologue, anatomiste, infirmière\n",
    "# Entourage royal : argentier, chancelier\n",
    "# Religion : saint, prêtre, pretre, archevêque, archeveque, cardinal, rabbin, jésuite, curé, chef protestant, aumônier,\n",
    "            #bénédictin, dominicain\n"
   ]
  },
  {
   "cell_type": "code",
   "execution_count": 26,
   "metadata": {
    "ExecuteTime": {
     "end_time": "2020-04-07T14:10:08.887460Z",
     "start_time": "2020-04-07T14:10:08.859961Z"
    }
   },
   "outputs": [],
   "source": [
    "#df.loc[(~df['HISTORIQUE'].isna()) & df['HISTORIQUE'].str.contains('intendant'), 'HISTORIQUE'].tolist()"
   ]
  },
  {
   "cell_type": "markdown",
   "metadata": {},
   "source": [
    "# 4. Dates arrêtés"
   ]
  },
  {
   "cell_type": "markdown",
   "metadata": {},
   "source": [
    "Y a -t-il une évolution dans le temps du choix des noms donnés aux rues? On regarde les arrêtés depuis 1980."
   ]
  },
  {
   "cell_type": "code",
   "execution_count": 27,
   "metadata": {
    "ExecuteTime": {
     "end_time": "2020-04-07T14:10:08.947040Z",
     "start_time": "2020-04-07T14:10:08.890453Z"
    }
   },
   "outputs": [],
   "source": [
    "df.loc[~df['DATE ARRET'].isna(), 'year_arret'] = df.loc[~df['DATE ARRET'].isna(), 'DATE ARRET'].apply(lambda x: int(x[:4]))"
   ]
  },
  {
   "cell_type": "code",
   "execution_count": 28,
   "metadata": {
    "ExecuteTime": {
     "end_time": "2020-04-07T14:10:09.034175Z",
     "start_time": "2020-04-07T14:10:08.952333Z"
    }
   },
   "outputs": [],
   "source": [
    "df_dates_arret = df.loc[(df['bool_personne']==1) & (df['year_arret']>=1980), ['bool_personne', 'year_arret', 'Sexe']]\n",
    "pd.crosstab(df_dates_arret['year_arret'], df_dates_arret['Sexe']).to_csv('Data/Date_arret.csv')"
   ]
  },
  {
   "cell_type": "markdown",
   "metadata": {},
   "source": [
    "# 5. Dates"
   ]
  },
  {
   "cell_type": "code",
   "execution_count": 29,
   "metadata": {
    "ExecuteTime": {
     "end_time": "2020-04-07T14:10:09.144261Z",
     "start_time": "2020-04-07T14:10:09.037463Z"
    }
   },
   "outputs": [],
   "source": [
    "df.loc[(~df['HISTORIQUE'].isna()) & (df['HISTORIQUE'].str.contains('\\(')), \n",
    "       'Parenthèses'] = df.loc[(~df['HISTORIQUE'].isna()) & (df['HISTORIQUE'].str.contains('\\(')), \n",
    "                               'HISTORIQUE'].apply(lambda x: re.search(r'\\((.*?)\\)',x).group(1))\n",
    "df.loc[~df['Parenthèses'].isna(), 'Date_fin'] = df.loc[~df['Parenthèses'].isna(), 'Parenthèses'].apply(lambda x: re.search(r'\\d{4}(?!\\d)', x))"
   ]
  },
  {
   "cell_type": "code",
   "execution_count": 30,
   "metadata": {
    "ExecuteTime": {
     "end_time": "2020-04-07T14:10:09.236607Z",
     "start_time": "2020-04-07T14:10:09.147422Z"
    }
   },
   "outputs": [],
   "source": [
    "df['Dates_parenthèses'] = df['Parenthèses'].astype(str).apply(lambda x: re.findall('\\d+', x))"
   ]
  },
  {
   "cell_type": "code",
   "execution_count": 31,
   "metadata": {
    "ExecuteTime": {
     "end_time": "2020-04-07T14:10:09.364373Z",
     "start_time": "2020-04-07T14:10:09.238602Z"
    }
   },
   "outputs": [],
   "source": [
    "df.loc[(~df['HISTORIQUE'].isna()), 'Dates_historique'] =  df.loc[(~df['HISTORIQUE'].isna()), 'HISTORIQUE']\\\n",
    "                                                                            .apply(lambda x: re.findall(r'\\d+', x))"
   ]
  },
  {
   "cell_type": "code",
   "execution_count": 32,
   "metadata": {
    "ExecuteTime": {
     "end_time": "2020-04-07T14:10:09.410432Z",
     "start_time": "2020-04-07T14:10:09.367446Z"
    }
   },
   "outputs": [],
   "source": [
    "df.loc[~df['Dates_historique'].isna(), 'Dates_historique'] = df.loc[~df['Dates_historique'].isna(), 'Dates_historique'].apply(lambda x: [i for i in x if len(i)==4])\n"
   ]
  },
  {
   "cell_type": "code",
   "execution_count": 33,
   "metadata": {
    "ExecuteTime": {
     "end_time": "2020-04-07T14:10:09.454129Z",
     "start_time": "2020-04-07T14:10:09.414273Z"
    }
   },
   "outputs": [],
   "source": [
    "df.loc[(df['bool_personne']==1) & (~df['Dates_historique'].isna()),'Dates_historique'] = df.loc[(df['bool_personne']==1) & (~df['Dates_historique'].isna()),'Dates_historique'].apply(lambda x: x[:2])"
   ]
  },
  {
   "cell_type": "code",
   "execution_count": 34,
   "metadata": {
    "ExecuteTime": {
     "end_time": "2020-04-07T14:10:09.511254Z",
     "start_time": "2020-04-07T14:10:09.459507Z"
    }
   },
   "outputs": [],
   "source": [
    "df.loc[(df['bool_personne']==1) & (~df['Dates_historique'].isna()),'nb_dates_historique']=df.loc[(df['bool_personne']==1) & (~df['Dates_historique'].isna()),'Dates_historique'].apply(lambda x: len(x))"
   ]
  },
  {
   "cell_type": "code",
   "execution_count": 36,
   "metadata": {
    "ExecuteTime": {
     "end_time": "2020-04-07T14:10:09.605435Z",
     "start_time": "2020-04-07T14:10:09.581232Z"
    }
   },
   "outputs": [],
   "source": [
    "df['naissance'] = df.loc[(df['bool_personne']==1) & (df['nb_dates_historique']==2),'Dates_historique'].apply(lambda x: x[0])"
   ]
  }
 ],
 "metadata": {
  "kernelspec": {
   "display_name": "Python 3",
   "language": "python",
   "name": "python3"
  },
  "language_info": {
   "codemirror_mode": {
    "name": "ipython",
    "version": 3
   },
   "file_extension": ".py",
   "mimetype": "text/x-python",
   "name": "python",
   "nbconvert_exporter": "python",
   "pygments_lexer": "ipython3",
   "version": "3.7.3"
  }
 },
 "nbformat": 4,
 "nbformat_minor": 2
}
