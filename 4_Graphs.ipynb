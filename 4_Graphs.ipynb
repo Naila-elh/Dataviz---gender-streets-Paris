{
 "cells": [
  {
   "cell_type": "code",
   "execution_count": 1,
   "metadata": {
    "ExecuteTime": {
     "end_time": "2020-04-03T14:31:26.539098Z",
     "start_time": "2020-04-03T14:31:25.490541Z"
    }
   },
   "outputs": [],
   "source": [
    "import pandas as pd\n",
    "import urllib\n",
    "import os\n",
    "import string\n",
    "import re\n",
    "import numpy as np"
   ]
  },
  {
   "cell_type": "code",
   "execution_count": 401,
   "metadata": {
    "ExecuteTime": {
     "end_time": "2020-04-04T12:55:52.868902Z",
     "start_time": "2020-04-04T12:55:51.482971Z"
    }
   },
   "outputs": [
    {
     "data": {
      "text/html": [
       "<div>\n",
       "<style scoped>\n",
       "    .dataframe tbody tr th:only-of-type {\n",
       "        vertical-align: middle;\n",
       "    }\n",
       "\n",
       "    .dataframe tbody tr th {\n",
       "        vertical-align: top;\n",
       "    }\n",
       "\n",
       "    .dataframe thead th {\n",
       "        text-align: right;\n",
       "    }\n",
       "</style>\n",
       "<table border=\"1\" class=\"dataframe\">\n",
       "  <thead>\n",
       "    <tr style=\"text-align: right;\">\n",
       "      <th></th>\n",
       "      <th>DATE ARRET</th>\n",
       "      <th>CDGI</th>\n",
       "      <th>QUARTIER</th>\n",
       "      <th>TYPE DE VOIE</th>\n",
       "      <th>PREFIXE de VOIE</th>\n",
       "      <th>NOM de VOIE</th>\n",
       "      <th>Libellé VOIE</th>\n",
       "      <th>CVOIE</th>\n",
       "      <th>HISTORIQUE</th>\n",
       "      <th>Personne</th>\n",
       "      <th>...</th>\n",
       "      <th>Voies</th>\n",
       "      <th>Eponymes</th>\n",
       "      <th>Arrondissements</th>\n",
       "      <th>Origine rue</th>\n",
       "      <th>Date</th>\n",
       "      <th>Origine_rue</th>\n",
       "      <th>Date_personnalité</th>\n",
       "      <th>Femme</th>\n",
       "      <th>Homme</th>\n",
       "      <th>Sexe</th>\n",
       "    </tr>\n",
       "  </thead>\n",
       "  <tbody>\n",
       "    <tr>\n",
       "      <th>0</th>\n",
       "      <td>1864-02-03T00:53:28+00:53</td>\n",
       "      <td>4166</td>\n",
       "      <td>Roquette.</td>\n",
       "      <td>rue</td>\n",
       "      <td>NaN</td>\n",
       "      <td>gerbier</td>\n",
       "      <td>rue gerbier</td>\n",
       "      <td>4112</td>\n",
       "      <td>pierre jean baptiste gerbier (1725-1788), avoc...</td>\n",
       "      <td>Pierre Jean Baptiste Gerbier</td>\n",
       "      <td>...</td>\n",
       "      <td>NaN</td>\n",
       "      <td>NaN</td>\n",
       "      <td>NaN</td>\n",
       "      <td>NaN</td>\n",
       "      <td>NaN</td>\n",
       "      <td>NaN</td>\n",
       "      <td>NaN</td>\n",
       "      <td>NaN</td>\n",
       "      <td>1.0</td>\n",
       "      <td>M</td>\n",
       "    </tr>\n",
       "    <tr>\n",
       "      <th>1</th>\n",
       "      <td>NaN</td>\n",
       "      <td>4994</td>\n",
       "      <td>Saint-Ambroise.</td>\n",
       "      <td>cité</td>\n",
       "      <td>NaN</td>\n",
       "      <td>joly</td>\n",
       "      <td>cité joly</td>\n",
       "      <td>4886</td>\n",
       "      <td>m. joly, propriétaire.</td>\n",
       "      <td>M. Joly</td>\n",
       "      <td>...</td>\n",
       "      <td>NaN</td>\n",
       "      <td>NaN</td>\n",
       "      <td>NaN</td>\n",
       "      <td>NaN</td>\n",
       "      <td>NaN</td>\n",
       "      <td>NaN</td>\n",
       "      <td>NaN</td>\n",
       "      <td>NaN</td>\n",
       "      <td>1.0</td>\n",
       "      <td>M</td>\n",
       "    </tr>\n",
       "    <tr>\n",
       "      <th>2</th>\n",
       "      <td>NaN</td>\n",
       "      <td>5441</td>\n",
       "      <td>Saint-Ambroise.</td>\n",
       "      <td>rue</td>\n",
       "      <td>NaN</td>\n",
       "      <td>léchevin</td>\n",
       "      <td>rue léchevin</td>\n",
       "      <td>5376</td>\n",
       "      <td>m. léchevin, propriétaire.\\nhistorique. ~ avan...</td>\n",
       "      <td>M. Léchevin</td>\n",
       "      <td>...</td>\n",
       "      <td>NaN</td>\n",
       "      <td>NaN</td>\n",
       "      <td>NaN</td>\n",
       "      <td>NaN</td>\n",
       "      <td>NaN</td>\n",
       "      <td>NaN</td>\n",
       "      <td>NaN</td>\n",
       "      <td>NaN</td>\n",
       "      <td>1.0</td>\n",
       "      <td>M</td>\n",
       "    </tr>\n",
       "    <tr>\n",
       "      <th>3</th>\n",
       "      <td>NaN</td>\n",
       "      <td>8208</td>\n",
       "      <td>Folie-Méricourt. Saint-Ambroise. Roquette.</td>\n",
       "      <td>boulevard</td>\n",
       "      <td>NaN</td>\n",
       "      <td>richard lenoir</td>\n",
       "      <td>boulevard richard lenoir</td>\n",
       "      <td>8197</td>\n",
       "      <td>françois richard (1765-1839), manufacturier d'...</td>\n",
       "      <td>François Richard</td>\n",
       "      <td>...</td>\n",
       "      <td>NaN</td>\n",
       "      <td>NaN</td>\n",
       "      <td>NaN</td>\n",
       "      <td>NaN</td>\n",
       "      <td>NaN</td>\n",
       "      <td>NaN</td>\n",
       "      <td>NaN</td>\n",
       "      <td>NaN</td>\n",
       "      <td>1.0</td>\n",
       "      <td>M</td>\n",
       "    </tr>\n",
       "    <tr>\n",
       "      <th>4</th>\n",
       "      <td>1885-10-11T00:53:28+00:53</td>\n",
       "      <td>9057</td>\n",
       "      <td>Saint-Ambroise.</td>\n",
       "      <td>rue</td>\n",
       "      <td>NaN</td>\n",
       "      <td>spinoza</td>\n",
       "      <td>rue spinoza</td>\n",
       "      <td>8671</td>\n",
       "      <td>baruch spinoza (1632-1677), philosophe holland...</td>\n",
       "      <td>Baruch Spinoza</td>\n",
       "      <td>...</td>\n",
       "      <td>NaN</td>\n",
       "      <td>NaN</td>\n",
       "      <td>NaN</td>\n",
       "      <td>NaN</td>\n",
       "      <td>NaN</td>\n",
       "      <td>NaN</td>\n",
       "      <td>NaN</td>\n",
       "      <td>NaN</td>\n",
       "      <td>1.0</td>\n",
       "      <td>M</td>\n",
       "    </tr>\n",
       "  </tbody>\n",
       "</table>\n",
       "<p>5 rows × 39 columns</p>\n",
       "</div>"
      ],
      "text/plain": [
       "                  DATE ARRET  CDGI  \\\n",
       "0  1864-02-03T00:53:28+00:53  4166   \n",
       "1                        NaN  4994   \n",
       "2                        NaN  5441   \n",
       "3                        NaN  8208   \n",
       "4  1885-10-11T00:53:28+00:53  9057   \n",
       "\n",
       "                                     QUARTIER TYPE DE VOIE PREFIXE de VOIE  \\\n",
       "0                                   Roquette.          rue             NaN   \n",
       "1                             Saint-Ambroise.         cité             NaN   \n",
       "2                             Saint-Ambroise.          rue             NaN   \n",
       "3  Folie-Méricourt. Saint-Ambroise. Roquette.    boulevard             NaN   \n",
       "4                             Saint-Ambroise.          rue             NaN   \n",
       "\n",
       "      NOM de VOIE              Libellé VOIE CVOIE  \\\n",
       "0         gerbier               rue gerbier  4112   \n",
       "1            joly                 cité joly  4886   \n",
       "2        léchevin              rue léchevin  5376   \n",
       "3  richard lenoir  boulevard richard lenoir  8197   \n",
       "4         spinoza               rue spinoza  8671   \n",
       "\n",
       "                                          HISTORIQUE  \\\n",
       "0  pierre jean baptiste gerbier (1725-1788), avoc...   \n",
       "1                             m. joly, propriétaire.   \n",
       "2  m. léchevin, propriétaire.\\nhistorique. ~ avan...   \n",
       "3  françois richard (1765-1839), manufacturier d'...   \n",
       "4  baruch spinoza (1632-1677), philosophe holland...   \n",
       "\n",
       "                       Personne  ... Voies  Eponymes Arrondissements  \\\n",
       "0  Pierre Jean Baptiste Gerbier  ...   NaN       NaN             NaN   \n",
       "1                       M. Joly  ...   NaN       NaN             NaN   \n",
       "2                   M. Léchevin  ...   NaN       NaN             NaN   \n",
       "3              François Richard  ...   NaN       NaN             NaN   \n",
       "4                Baruch Spinoza  ...   NaN       NaN             NaN   \n",
       "\n",
       "  Origine rue Date  Origine_rue  Date_personnalité Femme Homme Sexe  \n",
       "0         NaN  NaN          NaN                NaN   NaN   1.0    M  \n",
       "1         NaN  NaN          NaN                NaN   NaN   1.0    M  \n",
       "2         NaN  NaN          NaN                NaN   NaN   1.0    M  \n",
       "3         NaN  NaN          NaN                NaN   NaN   1.0    M  \n",
       "4         NaN  NaN          NaN                NaN   NaN   1.0    M  \n",
       "\n",
       "[5 rows x 39 columns]"
      ]
     },
     "execution_count": 401,
     "metadata": {},
     "output_type": "execute_result"
    }
   ],
   "source": [
    "df=pd.read_csv(\"Data/df_final.csv\", sep=\";\", index_col=0)\n",
    "df.head()"
   ]
  },
  {
   "cell_type": "code",
   "execution_count": 402,
   "metadata": {
    "ExecuteTime": {
     "end_time": "2020-04-04T12:56:04.201953Z",
     "start_time": "2020-04-04T12:56:03.401803Z"
    }
   },
   "outputs": [
    {
     "data": {
      "text/plain": [
       "M    3514\n",
       "F     331\n",
       "Name: Sexe, dtype: int64"
      ]
     },
     "execution_count": 402,
     "metadata": {},
     "output_type": "execute_result"
    }
   ],
   "source": [
    "df['Sexe'].value_counts()"
   ]
  },
  {
   "cell_type": "markdown",
   "metadata": {},
   "source": [
    "# 1. Arrondissements"
   ]
  },
  {
   "cell_type": "markdown",
   "metadata": {},
   "source": [
    "## 1.1. Clean"
   ]
  },
  {
   "cell_type": "markdown",
   "metadata": {},
   "source": [
    "On cherche à compter les rues féminines et masculines par arrondissement. Or, certaines rues sont à la frontière entre plusieurs arrondissements. On va considérer que ces rues sont alors dans les 2 arrondissements - elles seront alors comptées plusieurs fois au total, mais une fois dans chaque arrondissement."
   ]
  },
  {
   "cell_type": "code",
   "execution_count": 3,
   "metadata": {
    "ExecuteTime": {
     "end_time": "2020-04-03T14:31:34.321730Z",
     "start_time": "2020-04-03T14:31:26.884451Z"
    },
    "code_folding": []
   },
   "outputs": [],
   "source": [
    "df_arrondissements = pd.concat([pd.Series(row['Sexe'], row['ARRONDISSEMENT'].split(','))              \n",
    "                    for _, row in df.iterrows()]).reset_index().rename(columns={'index' : 'Arrondissement', 0:'Sexe'})"
   ]
  },
  {
   "cell_type": "code",
   "execution_count": 4,
   "metadata": {
    "ExecuteTime": {
     "end_time": "2020-04-03T14:31:34.367478Z",
     "start_time": "2020-04-03T14:31:34.326382Z"
    }
   },
   "outputs": [],
   "source": [
    "df_arrondissements['Arrondissement'] = df_arrondissements['Arrondissement'].apply(lambda x: x.upper())\n",
    "removed_expressions = [' ', 'E', 'R']\n",
    "for expression in removed_expressions:\n",
    "    df_arrondissements['Arrondissement'] = df_arrondissements['Arrondissement'].apply(lambda x: x.replace(expression, ''))\n",
    "df_arrondissements = df_arrondissements.loc[~ df_arrondissements['Arrondissement'].str.startswith(\"LIMIT\")]"
   ]
  },
  {
   "cell_type": "code",
   "execution_count": 5,
   "metadata": {
    "ExecuteTime": {
     "end_time": "2020-04-03T14:31:34.481036Z",
     "start_time": "2020-04-03T14:31:34.371465Z"
    }
   },
   "outputs": [],
   "source": [
    "def from_roman(num):\n",
    "    roman_numerals = {'I':1, 'V':5, 'X':10, 'L':50, 'C':100, 'D':500, 'M':1000}\n",
    "    try:\n",
    "        result = 0\n",
    "        for i,c in enumerate(num):\n",
    "            if (i+1) == len(num) or roman_numerals[c] >= roman_numerals[num[i+1]]:\n",
    "                result += roman_numerals[c]\n",
    "            else:\n",
    "                result -= roman_numerals[c]\n",
    "    except:\n",
    "        result = int(num)\n",
    "    return result\n",
    "df_arrondissements['Arrondissement_num'] = df_arrondissements['Arrondissement'].apply(lambda x: from_roman(x))\n",
    "df_arrondissements=df_arrondissements.loc[df_arrondissements['Arrondissement_num']!=0]"
   ]
  },
  {
   "cell_type": "markdown",
   "metadata": {},
   "source": [
    "## 1.2. Nombre de rues / sexe par arrondissement"
   ]
  },
  {
   "cell_type": "code",
   "execution_count": 6,
   "metadata": {
    "ExecuteTime": {
     "end_time": "2020-04-03T14:31:34.580573Z",
     "start_time": "2020-04-03T14:31:34.486417Z"
    }
   },
   "outputs": [],
   "source": [
    "df_arrondissements = pd.crosstab(df_arrondissements['Arrondissement_num'], df_arrondissements['Sexe']).reset_index()\n",
    "df_arrondissements.columns.name=None"
   ]
  },
  {
   "cell_type": "code",
   "execution_count": 7,
   "metadata": {
    "ExecuteTime": {
     "end_time": "2020-04-03T14:31:34.606199Z",
     "start_time": "2020-04-03T14:31:34.587206Z"
    }
   },
   "outputs": [],
   "source": [
    "df_arrondissements['Total'] = df_arrondissements[['M', 'F']].sum(axis=1)"
   ]
  },
  {
   "cell_type": "code",
   "execution_count": 8,
   "metadata": {
    "ExecuteTime": {
     "end_time": "2020-04-03T14:31:34.679180Z",
     "start_time": "2020-04-03T14:31:34.617041Z"
    }
   },
   "outputs": [],
   "source": [
    "df_arrondissements['F_percent'] = df_arrondissements['F']/df_arrondissements['Total']*100"
   ]
  },
  {
   "cell_type": "code",
   "execution_count": 9,
   "metadata": {
    "ExecuteTime": {
     "end_time": "2020-04-03T14:31:34.721150Z",
     "start_time": "2020-04-03T14:31:34.690035Z"
    }
   },
   "outputs": [],
   "source": [
    "df_arrondissements[['Arrondissement_num', 'F_percent']].to_csv('data/df_arrondissements.csv')"
   ]
  },
  {
   "cell_type": "markdown",
   "metadata": {},
   "source": [
    "# 2. Quartiers de Paris"
   ]
  },
  {
   "cell_type": "markdown",
   "metadata": {},
   "source": [
    "## 2.1. Clean"
   ]
  },
  {
   "cell_type": "code",
   "execution_count": 10,
   "metadata": {
    "ExecuteTime": {
     "end_time": "2020-04-03T14:31:34.763968Z",
     "start_time": "2020-04-03T14:31:34.725357Z"
    }
   },
   "outputs": [],
   "source": [
    "df_quartier = df\n",
    "# On enlève le point si le quartier finit par un point\n",
    "pattern_finish_point = re.compile('\\.$')\n",
    "df_quartier['Quartier'] = df_quartier['QUARTIER'].apply(lambda x: pattern_finish_point.sub('', x))"
   ]
  },
  {
   "cell_type": "code",
   "execution_count": 11,
   "metadata": {
    "ExecuteTime": {
     "end_time": "2020-04-03T14:31:58.971023Z",
     "start_time": "2020-04-03T14:31:34.771187Z"
    }
   },
   "outputs": [],
   "source": [
    "for punctuation in ['.', ',', ';'] :\n",
    "    df_quartier = pd.concat([pd.Series(row['Sexe'], row['Quartier'].split(punctuation))              \n",
    "                    for _, row in df_quartier.iterrows()]).reset_index().rename(columns={'index' : 'Quartier', 0:'Sexe'})\n"
   ]
  },
  {
   "cell_type": "code",
   "execution_count": 12,
   "metadata": {
    "ExecuteTime": {
     "end_time": "2020-04-03T14:31:59.043846Z",
     "start_time": "2020-04-03T14:31:58.975103Z"
    }
   },
   "outputs": [],
   "source": [
    "# \"Sur le territoire de...\" à enlever, ce n'est pas un district\n",
    "df_quartier = df_quartier[~df_quartier['Quartier'].str.contains('Sur le|Situé sur')]\n",
    "\n",
    "# Enlever espace au début ; mettre en majuscule ; ajouter '-' entre les mots plutôt que espaces\n",
    "df_quartier['Quartier'] = df_quartier['Quartier'].apply(lambda x: x.strip().title().replace(' ', '-').replace('--', '-'))"
   ]
  },
  {
   "cell_type": "code",
   "execution_count": 13,
   "metadata": {
    "ExecuteTime": {
     "end_time": "2020-04-03T14:31:59.132791Z",
     "start_time": "2020-04-03T14:31:59.044846Z"
    }
   },
   "outputs": [],
   "source": [
    "# Correction à la main des erreurs qu'il reste\n",
    "corrections = {'Folies-Méricourt' : 'Folie-Méricourt',\n",
    "              \"Goutte-D\\x92Or\" : \"Goutte-D'Or\", \n",
    "              \"Hôpit\" : \"Hôpital-Saint-Louis\", \n",
    "              \"La-Villette\" : \"Villette\", \n",
    "              \"Plaine-De-Monceau\" : \"Plaine-De-Monceaux\", \n",
    "              \"Saint-Germain-Des-Pré\" : \"Saint-Germain-Des-Prés\", \n",
    "              \"Épinettes\" : \"Epinettes\", \n",
    "              \"Les-Halles\" : 'Halles',\n",
    "              \"Chapelle\" : \"La Chapelle\", \n",
    "              \"Saint-Germain-L'Auxerrois\" : \"St-Germain-L'Auxerrois\", \n",
    "              'Lambert' : 'Saint-Lambert'}\n",
    "\n",
    "for erreur in corrections.keys():\n",
    "    df_quartier.loc[df_quartier['Quartier']==erreur, 'Quartier'] = corrections.get(erreur)"
   ]
  },
  {
   "cell_type": "markdown",
   "metadata": {},
   "source": [
    "## 2.2. Nombre de rues/sexe par quartier"
   ]
  },
  {
   "cell_type": "code",
   "execution_count": 14,
   "metadata": {
    "ExecuteTime": {
     "end_time": "2020-04-03T14:31:59.181010Z",
     "start_time": "2020-04-03T14:31:59.132791Z"
    }
   },
   "outputs": [],
   "source": [
    "df_quartier = pd.crosstab(df_quartier['Quartier'], df_quartier['Sexe']).reset_index()\n",
    "df_quartier.columns.name=None"
   ]
  },
  {
   "cell_type": "code",
   "execution_count": 15,
   "metadata": {
    "ExecuteTime": {
     "end_time": "2020-04-03T14:31:59.206071Z",
     "start_time": "2020-04-03T14:31:59.186050Z"
    }
   },
   "outputs": [],
   "source": [
    "df_quartier['Total'] = df_quartier[['M', 'F']].sum(axis=1)"
   ]
  },
  {
   "cell_type": "code",
   "execution_count": 16,
   "metadata": {
    "ExecuteTime": {
     "end_time": "2020-04-03T14:31:59.275042Z",
     "start_time": "2020-04-03T14:31:59.215461Z"
    }
   },
   "outputs": [],
   "source": [
    "df_quartier['F_percent'] = df_quartier['F']/df_quartier['Total']*100"
   ]
  },
  {
   "cell_type": "code",
   "execution_count": 17,
   "metadata": {
    "ExecuteTime": {
     "end_time": "2020-04-03T14:31:59.336116Z",
     "start_time": "2020-04-03T14:31:59.281116Z"
    }
   },
   "outputs": [],
   "source": [
    "df_quartier[['Quartier', 'F_percent']].to_csv('data/df_quartier.csv')"
   ]
  },
  {
   "cell_type": "markdown",
   "metadata": {},
   "source": [
    "# 3. Professions"
   ]
  },
  {
   "cell_type": "markdown",
   "metadata": {},
   "source": [
    "## 3.1. Wordsclouds femmes vs hommes"
   ]
  },
  {
   "cell_type": "code",
   "execution_count": 460,
   "metadata": {
    "ExecuteTime": {
     "end_time": "2020-04-04T13:46:33.959052Z",
     "start_time": "2020-04-04T13:46:33.954329Z"
    }
   },
   "outputs": [],
   "source": [
    "import stylecloud"
   ]
  },
  {
   "cell_type": "code",
   "execution_count": 413,
   "metadata": {
    "ExecuteTime": {
     "end_time": "2020-04-04T13:05:30.319134Z",
     "start_time": "2020-04-04T13:05:30.228480Z"
    }
   },
   "outputs": [],
   "source": [
    "for element in ['[', ']', '\"', \"'\"]:\n",
    "    df.loc[~df['JOBS_list'].isna(), 'JOBS_list'] = df.loc[~df['JOBS_list'].isna(), 'JOBS_list'].apply(lambda x: x.replace(element, \"\"))\n",
    "df.loc[~df['JOBS_list'].isna(), 'JOBS_list'] = df.loc[~df['JOBS_list'].isna(), 'JOBS_list'].apply(lambda x: x.split(','))"
   ]
  },
  {
   "cell_type": "code",
   "execution_count": 427,
   "metadata": {
    "ExecuteTime": {
     "end_time": "2020-04-04T13:14:31.233063Z",
     "start_time": "2020-04-04T13:14:31.204253Z"
    }
   },
   "outputs": [],
   "source": [
    "jobs_list_w = [item for sublist in df.loc[(~df['JOBS_list'].isna()) & (df['Sexe']=='F'), 'JOBS_list'].tolist() for item in sublist]\n",
    "jobs_list_w = [x.strip(' ') for x in jobs_list_w]\n",
    "\n",
    "jobs_list_m = [item for sublist in df.loc[(~df['JOBS_list'].isna()) & (df['Sexe']=='M'), 'JOBS_list'].tolist() for item in sublist]\n",
    "jobs_list_m = [x.strip(' ') for x in jobs_list_m]"
   ]
  },
  {
   "cell_type": "code",
   "execution_count": 452,
   "metadata": {
    "ExecuteTime": {
     "end_time": "2020-04-04T13:29:33.922764Z",
     "start_time": "2020-04-04T13:29:33.910734Z"
    }
   },
   "outputs": [],
   "source": [
    "text_f=' '.join(jobs_list_w)\n",
    "text_m=' '.join(jobs_list_m)\n",
    "file = open(\"Wordcloud/text_f.txt\",'w',  encoding=\"utf-8\") \n",
    "file.write(text_f) \n",
    "file.close()\n",
    "file = open(\"Wordcloud/text_m.txt\",'w',  encoding=\"utf-8\") \n",
    "file.write(text_m) \n",
    "file.close()"
   ]
  },
  {
   "cell_type": "code",
   "execution_count": 458,
   "metadata": {
    "ExecuteTime": {
     "end_time": "2020-04-04T13:37:49.915406Z",
     "start_time": "2020-04-04T13:37:46.946200Z"
    },
    "scrolled": false
   },
   "outputs": [],
   "source": [
    "stylecloud.gen_stylecloud(file_path=\"Wordcloud/text_f.txt\", \n",
    "                        icon_name=\"fas fa-female\", \n",
    "                        palette='colorbrewer.sequential.RdPu_7')"
   ]
  },
  {
   "cell_type": "code",
   "execution_count": 459,
   "metadata": {
    "ExecuteTime": {
     "end_time": "2020-04-04T13:40:24.607266Z",
     "start_time": "2020-04-04T13:40:20.209369Z"
    }
   },
   "outputs": [],
   "source": [
    "stylecloud.gen_stylecloud(file_path=\"Wordcloud/text_m.txt\", \n",
    "                        icon_name=\"fas fa-male\", \n",
    "                        palette='colorbrewer.sequential.PuBu_9')"
   ]
  },
  {
   "cell_type": "markdown",
   "metadata": {},
   "source": [
    "## 3.2. Cleaner les données de jobs?"
   ]
  },
  {
   "cell_type": "code",
   "execution_count": 344,
   "metadata": {
    "ExecuteTime": {
     "end_time": "2020-04-03T17:14:01.297993Z",
     "start_time": "2020-04-03T17:14:01.283999Z"
    }
   },
   "outputs": [],
   "source": [
    "# text = ' '.join(df.loc[(~df['HISTORIQUE'].isna()) & (df['Femme']==1),'HISTORIQUE'])\n",
    "# for word_remove in ['historique', 'précédemment', 'voie', 'rue', 'ouverte', 'aménagement', 'boulevard', 'périphérique', \n",
    "#                     'partie', 'comprise', 'ouverte', 'décret', 'ville', 'paris', 'provisoirement', 'nommée', \n",
    "#                    'entre', 'site classé', 'passage', 'orig', 'place', 'boulevard', 'monument', 'cadre', 'dé', 'autrefois', \n",
    "#                    'située', 'anciennement', 'classé', \"l'\", 'avenue', 'bretelle', 'liaison', 'aménagée', 'voisinage', 'création',\n",
    "#                    'annexé', 'impasse', 'puis', 'plus', 'antérieurement', 'créée', 'indiquée', 'plan', 'emment', 'chemin']:\n",
    "#     text = text.replace(word_remove, '')"
   ]
  },
  {
   "cell_type": "code",
   "execution_count": 66,
   "metadata": {
    "ExecuteTime": {
     "end_time": "2020-04-03T15:40:00.287248Z",
     "start_time": "2020-04-03T15:40:00.274285Z"
    }
   },
   "outputs": [],
   "source": [
    "jobs_list = [item for sublist in df.loc[~df['JOBS_list'].isna(), 'JOBS_list'].tolist() for item in sublist]\n",
    "jobs_list = set([x.strip(' ') for x in jobs_list])"
   ]
  },
  {
   "cell_type": "code",
   "execution_count": null,
   "metadata": {},
   "outputs": [],
   "source": [
    "# Résistants : résistant, otage, résistance, \n",
    "# syndicaliste : syndicaliste, militant\n",
    "# féministe : féministe,\n",
    "# Titre de nobelesse : comte, marquis, duc, vicomte, seigneur, baron\n",
    "\n",
    "\n",
    "# homme politique : homme politique, femme politique, maire, conseiller municipal, conseiller, conseillère, préfet, homme d'etat, homme d'état, \n",
    "                #homme detat, homme détat, ministre, sénateur, empereur, roi, président, prince, ambassadeur, diplomate, \n",
    "                #député, magistrat\n",
    "# Justice : avocat, jurisconsulte, greffier, juriste, notaire\n",
    "# Proprétaire : propriétaire, proprietaire, entrepreneur, concessionnaire, gérant\n",
    "# Artisan/manufacture : manufacturier, industriel, apothicaire, ciseleur, fondeur, graveur, mécanicien, cuisinier, gastronome,\n",
    "        #horticulteur, imprimeur\n",
    "\n",
    "# Intellectuel : écrivain, écrivaine, romancier, lithographe,  littérateur, linguiste, anthropologue, érudit, \n",
    "            #philosophe, lexicographe, poète, sociologue, sociologiste, économiste, critique, auteur, auteure, dramaturge, \n",
    "            #essayiste, homme de lettres, auteur, savant, historien, journaliste, homme de lettres, femme de lettres, calligraphe,\n",
    "            #chroniqueur, fabuliste, helléniste, instituteur, institutrice, poétesse\n",
    "            \n",
    "# Artiste : peintre, graveur, compositeur, compositrice, interprète, dessinateur, dessinatrice, chansonnier, chansonnière, \n",
    "            #tragédien, statuaire, sculpteur, danseur, danseuse, décorateur, femme peintre, illustrateur\n",
    "            # architecte, acteur, actrice, comédien, comédienne, musicien, clarinettiste, guitariste,\n",
    "            #saxophoniste, violoniste, chef d'orchestre, cantatrice, chanteur, chanteuse, caricaturiste, chorégraphe, cinéaste,\n",
    "            #compositrice, facteur, humoriste, jardinier\n",
    "        \n",
    "# Aviateur : aviateur, aviatrice, pilote, corsaire, marin, navigateur\n",
    "# Sportif: champion, gymnastique\n",
    "# Militaire : général, colonel, militaire, amiral, maréchal, officier, capitaine, sergent, lieutenant, gardien de la paix, \n",
    "                # homme de guerre\n",
    "            \n",
    "# Scientifique : mathématicien, physicien, chimiste, minéarologiste, botaniste, explorateur, ingénieur, inventeur, \n",
    "            #aéronaute, naturaliste, voyageur, géologue, agronome, alchimiste, bactériologiste, savant, géographe,\n",
    "            # archéologue,démographe, ethnographe, ethnologue, géomètre, informaticienne, microbiologiste\n",
    "# Médecin : docteur, médecin, chirurgien, neurologue, cancérologue, anatomiste, infirmière\n",
    "# Entourage royal : argentier, chancelier\n",
    "# Religion : saint, prêtre, pretre, archevêque, archeveque, cardinal, rabbin, jésuite, curé, chef protestant, aumônier,\n",
    "            #bénédictin, dominicain\n"
   ]
  },
  {
   "cell_type": "code",
   "execution_count": 228,
   "metadata": {
    "ExecuteTime": {
     "end_time": "2020-04-03T16:35:58.645984Z",
     "start_time": "2020-04-03T16:35:58.642996Z"
    }
   },
   "outputs": [],
   "source": [
    "#df.loc[(~df['HISTORIQUE'].isna()) & df['HISTORIQUE'].str.contains('intendant'), 'HISTORIQUE'].tolist()"
   ]
  },
  {
   "cell_type": "code",
   "execution_count": 245,
   "metadata": {
    "ExecuteTime": {
     "end_time": "2020-04-03T16:41:32.804275Z",
     "start_time": "2020-04-03T16:41:32.794302Z"
    },
    "scrolled": true
   },
   "outputs": [
    {
     "data": {
      "text/plain": [
       "['m. piat, propriétaire, notaire de belleville.\\r\\nhistorique. ~ précédemment rue piat prolongée (partie a).',\n",
       " 'm. labie, notaire et maire de neuilly, ancien propriétaire du terrain sur lequel la voie a été ouverte.',\n",
       " 'victor levert (1769-1831), notaire, maire de belleville de 1805 à 1829.\\r\\nhistorique. ~ la partie de cette voie comprise entre les rues des cascades et des rigoles existait en 1730.',\n",
       " 'm. piat, propriétaire, notaire de belleville.\\r\\nhistorique. ~ précédemment rue piat prolongée (partie a).']"
      ]
     },
     "execution_count": 245,
     "metadata": {},
     "output_type": "execute_result"
    }
   ],
   "source": [
    "df.loc[(~df['JOBS_list'].isna()) & (df['JOB_pred'].str.contains(\"notaire\")), 'HISTORIQUE'].tolist()"
   ]
  },
  {
   "cell_type": "code",
   "execution_count": null,
   "metadata": {},
   "outputs": [],
   "source": [
    "# autres : administrateur, adjudant"
   ]
  },
  {
   "cell_type": "code",
   "execution_count": 67,
   "metadata": {
    "ExecuteTime": {
     "end_time": "2020-04-03T15:40:00.687294Z",
     "start_time": "2020-04-03T15:40:00.677322Z"
    }
   },
   "outputs": [
    {
     "data": {
      "text/plain": [
       "{'',\n",
       " 'a',\n",
       " 'abbesse',\n",
       " 'abbé',\n",
       " 'accordant',\n",
       " 'accordeur',\n",
       " 'acteur',\n",
       " 'actrice',\n",
       " 'adjudant',\n",
       " 'administrateur',\n",
       " 'affichiste',\n",
       " 'agronome',\n",
       " 'alchimiste',\n",
       " 'alexandre chatrian',\n",
       " 'amateur',\n",
       " 'ambassadeur',\n",
       " 'ami',\n",
       " 'amie',\n",
       " 'amiral',\n",
       " 'analyste',\n",
       " 'anatomiste',\n",
       " 'ancien',\n",
       " 'ancienne',\n",
       " 'andré mesmin',\n",
       " 'anglais',\n",
       " 'animateur',\n",
       " 'animatrice',\n",
       " 'anthropologue',\n",
       " 'antiquaire',\n",
       " 'antoine charles horace',\n",
       " 'antérieurement',\n",
       " 'apothicaire',\n",
       " 'apôtre',\n",
       " 'aquafortiste',\n",
       " 'aquarelliste',\n",
       " 'archevêque',\n",
       " 'architecte',\n",
       " 'architectes',\n",
       " 'archiviste',\n",
       " 'archéologue',\n",
       " 'argentier',\n",
       " 'artiste',\n",
       " 'artur london',\n",
       " 'assistante',\n",
       " 'astronome',\n",
       " 'auguste charles',\n",
       " 'aumônier',\n",
       " 'auparavant',\n",
       " 'auprès',\n",
       " 'auteur',\n",
       " 'auteure',\n",
       " 'avant',\n",
       " 'aviateur',\n",
       " 'aviateurs',\n",
       " 'aviatrice',\n",
       " 'avocat',\n",
       " 'avocate',\n",
       " 'ayant',\n",
       " 'aéronaute',\n",
       " 'bactériologiste',\n",
       " 'bactériologistes',\n",
       " 'banquier',\n",
       " 'baron',\n",
       " 'baronne',\n",
       " 'bibliophile',\n",
       " 'bibliothécaire',\n",
       " 'bienfaiteur',\n",
       " 'biologiste',\n",
       " 'botaniste',\n",
       " 'bourgeois',\n",
       " 'brasseur',\n",
       " 'brûlé',\n",
       " 'buffon',\n",
       " 'buste',\n",
       " 'bâtard',\n",
       " 'bâtonnier',\n",
       " 'bénédictin',\n",
       " 'cabinet',\n",
       " 'caire',\n",
       " 'calligraphe',\n",
       " 'cancérologue',\n",
       " 'cantatrice',\n",
       " 'capitaine',\n",
       " 'capitaine aviateur',\n",
       " 'capverdienne',\n",
       " 'cardinal',\n",
       " 'cardiologue',\n",
       " 'caricaturiste',\n",
       " 'cartonnier',\n",
       " 'chambellan',\n",
       " 'champion',\n",
       " 'championne',\n",
       " 'chancelier',\n",
       " 'chanoine',\n",
       " 'chansonnier',\n",
       " 'chansonnière',\n",
       " 'chanteur',\n",
       " 'chanteuse',\n",
       " 'chantier',\n",
       " 'charles',\n",
       " 'charretière',\n",
       " 'chef',\n",
       " 'cheminot',\n",
       " 'chevalier',\n",
       " 'chimie',\n",
       " 'chimiste',\n",
       " 'chimistes',\n",
       " 'chirurgien',\n",
       " 'chorégraphe',\n",
       " 'chroniqueur',\n",
       " 'cinéaste',\n",
       " 'cinématographe',\n",
       " 'ciseleur',\n",
       " 'claire',\n",
       " 'clarinettiste',\n",
       " 'cofondateur',\n",
       " 'cofondatrice',\n",
       " 'collaborateur',\n",
       " 'collaboratrice',\n",
       " 'collagiste',\n",
       " 'collectionneur',\n",
       " 'colonel',\n",
       " 'colonisateur',\n",
       " 'commandant',\n",
       " 'communard',\n",
       " 'compositeur',\n",
       " 'compositeurs',\n",
       " 'compositrice',\n",
       " 'comte',\n",
       " 'comédien',\n",
       " 'comédienne',\n",
       " 'conceptrice',\n",
       " 'concessionnaire',\n",
       " 'condisciple',\n",
       " 'confesseur',\n",
       " 'connétable',\n",
       " 'conseiller de',\n",
       " 'conseiller detat',\n",
       " 'conseiller général',\n",
       " 'conseiller municipal',\n",
       " 'conseillère',\n",
       " 'constitutionnel',\n",
       " 'constructeur',\n",
       " 'contre-amiral',\n",
       " 'contrôleur',\n",
       " 'conventionnel',\n",
       " 'convoi',\n",
       " 'correspondant',\n",
       " 'corsaire',\n",
       " 'criminaliste',\n",
       " 'cristallographe',\n",
       " 'critique',\n",
       " 'crozatier',\n",
       " 'créa',\n",
       " 'créatrice',\n",
       " 'cuisinier',\n",
       " 'céramiste',\n",
       " 'dame',\n",
       " 'daniel',\n",
       " 'danseur',\n",
       " 'danseuse',\n",
       " 'date',\n",
       " 'dauguste',\n",
       " 'dauphine',\n",
       " 'de',\n",
       " 'de lacadémie des sciences',\n",
       " 'de lassemblée nationale',\n",
       " 'de lettres',\n",
       " 'dentellier',\n",
       " 'dernier',\n",
       " 'des',\n",
       " 'des escofles',\n",
       " 'descendant',\n",
       " 'designer',\n",
       " 'dessinateur',\n",
       " 'dessinatrice',\n",
       " 'detat',\n",
       " 'devant',\n",
       " 'devenu',\n",
       " 'devenue',\n",
       " 'dhomme politique',\n",
       " 'dignitaire',\n",
       " 'diplomate',\n",
       " 'directeur',\n",
       " 'directrice',\n",
       " 'dirigea',\n",
       " 'dirigeant',\n",
       " 'dit anatole france',\n",
       " 'dit calvin',\n",
       " 'dit franc-nohain',\n",
       " 'dit georges mandel',\n",
       " 'dit gérard de nerval',\n",
       " 'dit martin bernard',\n",
       " 'dit pablo neruda',\n",
       " 'dit rené boylesve',\n",
       " 'dit victor',\n",
       " 'dit wilhem',\n",
       " 'division',\n",
       " 'do',\n",
       " 'docteur',\n",
       " 'dominicain',\n",
       " 'donne',\n",
       " 'doreur',\n",
       " 'doyen',\n",
       " 'dramaturge',\n",
       " 'du',\n",
       " 'duc',\n",
       " 'ducs',\n",
       " 'durant',\n",
       " 'déclarant',\n",
       " 'décorateur',\n",
       " 'décoratrice',\n",
       " 'découvreur',\n",
       " 'défendant',\n",
       " 'défenseur',\n",
       " 'délégué',\n",
       " 'démographe',\n",
       " 'démoli',\n",
       " 'député',\n",
       " 'ecclésiastique',\n",
       " 'emblématique',\n",
       " 'emile jean horace vernet',\n",
       " 'emile levassor',\n",
       " 'empereur',\n",
       " 'employée',\n",
       " 'en',\n",
       " 'enfin',\n",
       " 'enseigne',\n",
       " 'entomologiste',\n",
       " 'entrepreneur',\n",
       " 'envoya',\n",
       " 'espagnol',\n",
       " 'essayiste',\n",
       " 'est',\n",
       " 'et',\n",
       " 'ethnographe',\n",
       " 'ethnologue',\n",
       " 'eut',\n",
       " 'ex',\n",
       " 'exemplaire',\n",
       " 'explorateur',\n",
       " 'expressionniste',\n",
       " 'extérieur',\n",
       " 'exécutant',\n",
       " 'fabuliste',\n",
       " 'facteur',\n",
       " 'fantaisiste',\n",
       " 'favorite dhenri',\n",
       " 'femme',\n",
       " 'femme de lettres',\n",
       " 'femme de léopold iii',\n",
       " 'femme peintre',\n",
       " 'femme politique',\n",
       " 'ferron',\n",
       " 'fils',\n",
       " 'financier',\n",
       " 'fonctionnaire',\n",
       " 'fondateur',\n",
       " 'fondatrice',\n",
       " 'fondeur',\n",
       " 'français',\n",
       " 'française',\n",
       " 'française de lamérique',\n",
       " 'frère',\n",
       " 'fusillé',\n",
       " 'fut',\n",
       " 'féministe',\n",
       " 'férou',\n",
       " 'gardien',\n",
       " 'gastronome',\n",
       " 'gentilhomme gascon',\n",
       " 'gouverneur',\n",
       " 'gracié',\n",
       " 'grammairien',\n",
       " 'grand humaniste',\n",
       " 'grand résistant',\n",
       " 'grand-père',\n",
       " 'grande',\n",
       " 'grant',\n",
       " 'graveur',\n",
       " 'grec',\n",
       " 'greffier',\n",
       " 'guitariste',\n",
       " 'gymnastique',\n",
       " 'général',\n",
       " 'général des',\n",
       " 'généraux',\n",
       " 'géodésien',\n",
       " 'géographe',\n",
       " 'géographie',\n",
       " 'géologue',\n",
       " 'géomètre',\n",
       " 'gérant',\n",
       " 'habitait depuis',\n",
       " 'habitant',\n",
       " 'helléniste',\n",
       " 'henri',\n",
       " 'historien',\n",
       " 'historiens',\n",
       " 'homme d\\\\x92église',\n",
       " 'homme de',\n",
       " 'homme de guerre',\n",
       " 'homme de lettres',\n",
       " 'homme de presse',\n",
       " 'homme detat',\n",
       " 'homme détat',\n",
       " 'homme politique',\n",
       " 'horloger',\n",
       " 'horticulteur',\n",
       " 'humaniste',\n",
       " 'humoriste',\n",
       " 'hélléniste',\n",
       " 'héroïne',\n",
       " 'illustrateur',\n",
       " 'illustre',\n",
       " 'imprimeur',\n",
       " 'imprésario',\n",
       " 'incarcéré',\n",
       " 'industriel',\n",
       " 'infirmière',\n",
       " 'informaticienne',\n",
       " 'ingénieur',\n",
       " 'ingénieurs',\n",
       " 'inspecteur',\n",
       " 'inspiratrice',\n",
       " 'instituteur',\n",
       " 'institutrice',\n",
       " 'intendant',\n",
       " 'internationales',\n",
       " 'interne',\n",
       " 'interprète',\n",
       " 'inventeur',\n",
       " 'inventeurs',\n",
       " 'jacques etienne',\n",
       " 'jacques tréfouel',\n",
       " 'jardinier',\n",
       " 'jean',\n",
       " 'jean golier',\n",
       " 'jean pierre joseph darcet',\n",
       " 'jean-louis barrault',\n",
       " 'jeanne',\n",
       " 'joueur',\n",
       " 'journaliste',\n",
       " 'jules alfred',\n",
       " 'jurisconsulte',\n",
       " 'juriste',\n",
       " 'jésuite',\n",
       " 'lahire',\n",
       " 'larchitecte',\n",
       " 'latalante',\n",
       " 'lexicographe',\n",
       " 'libérateur',\n",
       " 'licencié',\n",
       " 'lieutenant',\n",
       " 'linguiste',\n",
       " 'lithographe',\n",
       " 'littérateur',\n",
       " 'littérateurs',\n",
       " 'long',\n",
       " 'loueur',\n",
       " 'louis',\n",
       " 'louis joseph frédéric margueritte',\n",
       " 'légataire',\n",
       " 'législateur',\n",
       " 'magistrat',\n",
       " 'maire',\n",
       " 'maison dans',\n",
       " 'maison de',\n",
       " 'maison dite de françois ier ayant',\n",
       " 'maison sacalie',\n",
       " 'manufacturier',\n",
       " 'marin',\n",
       " 'marquise de sévigné',\n",
       " 'maréchal',\n",
       " 'mathématicien',\n",
       " 'mathématicienne',\n",
       " 'maître carrier',\n",
       " 'maître de',\n",
       " 'maître des',\n",
       " 'maître graveur',\n",
       " 'maître menuisier',\n",
       " 'maître teinturier',\n",
       " 'maîtresse',\n",
       " 'membre',\n",
       " 'membre de',\n",
       " 'membre de diverses oeuvres',\n",
       " 'membre de la commune',\n",
       " 'membre de la convention',\n",
       " 'membre de la pléiade',\n",
       " 'membre de lacadémie',\n",
       " 'membre de lacadémie de médecine',\n",
       " 'membre de lacadémie des beaux',\n",
       " 'membre de lacadémie des beaux arts',\n",
       " 'membre de lacadémie des sciences',\n",
       " 'membre de lacadémie française',\n",
       " 'membre de lacadémie goncourt',\n",
       " 'membre de lassemblée dalger',\n",
       " 'membre de lassemblée nationale',\n",
       " 'membre de linstitut',\n",
       " 'membre de linstitut degypte',\n",
       " 'membre des',\n",
       " 'membre des jeunesses communistes',\n",
       " 'membre du bureau politique',\n",
       " 'membre du gouvernement de la défense nationale',\n",
       " 'membre du groupe',\n",
       " 'metteur',\n",
       " 'michel ordener',\n",
       " 'microbiologiste',\n",
       " 'militaire',\n",
       " 'militant',\n",
       " 'militante',\n",
       " 'ministre',\n",
       " 'ministre detat',\n",
       " 'minéralogiste',\n",
       " 'missionnaire',\n",
       " 'mme cognacq',\n",
       " 'modéliste',\n",
       " 'moine',\n",
       " 'moraliste',\n",
       " 'municipal',\n",
       " 'municipal de larrondissement',\n",
       " 'music',\n",
       " 'musicien',\n",
       " 'musicologue',\n",
       " 'mutualiste',\n",
       " 'mèdecin',\n",
       " 'mère',\n",
       " 'mécanicien',\n",
       " 'mécène',\n",
       " 'médailliste',\n",
       " 'médaillé',\n",
       " 'médecin',\n",
       " 'médiéviste',\n",
       " 'mémorialiste',\n",
       " 'méthode',\n",
       " 'nationale',\n",
       " 'naturaliste',\n",
       " 'navigateur',\n",
       " 'neurologue',\n",
       " 'nicolas',\n",
       " 'nom.~ blaise pascal',\n",
       " 'nom.~ son',\n",
       " 'nommé administrateur',\n",
       " 'nos',\n",
       " 'notaire',\n",
       " 'nouvelliste',\n",
       " 'née marie de heredia',\n",
       " 'négociant',\n",
       " 'odette abadi',\n",
       " 'oeuvres',\n",
       " 'officier',\n",
       " 'officiers',\n",
       " 'orateur',\n",
       " 'oratoire',\n",
       " 'oratorien',\n",
       " 'orfèvre',\n",
       " 'organiste',\n",
       " 'orientaliste',\n",
       " 'ornemaniste',\n",
       " 'ornementaliste',\n",
       " 'ornithologue',\n",
       " 'otage',\n",
       " 'ouvrier',\n",
       " 'pacificateur',\n",
       " 'pair',\n",
       " 'paléontologiste',\n",
       " 'paléontologue',\n",
       " 'pamphlétaire',\n",
       " 'parlementaire',\n",
       " 'parolier',\n",
       " 'parti',\n",
       " 'partisan',\n",
       " 'pastelliste',\n",
       " 'pasteur',\n",
       " 'patriote',\n",
       " 'patriote alsacien',\n",
       " 'patriote cubain',\n",
       " 'patriote hongrois',\n",
       " 'paul',\n",
       " 'paysagiste',\n",
       " 'peintre',\n",
       " 'peintres',\n",
       " 'pendant',\n",
       " 'penseur',\n",
       " 'petit',\n",
       " 'petite',\n",
       " 'peuple',\n",
       " 'pharmacien',\n",
       " 'philanthrope',\n",
       " 'philologue',\n",
       " 'philosophe',\n",
       " 'philosophie',\n",
       " 'photographe',\n",
       " 'physicien',\n",
       " 'physiciennes',\n",
       " 'physiologiste',\n",
       " 'pianiste',\n",
       " 'pianos',\n",
       " 'pilote de chasse',\n",
       " 'pilote des',\n",
       " 'pilote dessai',\n",
       " 'pilote secouriste',\n",
       " 'pionnier',\n",
       " 'pionnière',\n",
       " 'plasticienne',\n",
       " 'plestin-les-grèves',\n",
       " 'plénipotentiaire',\n",
       " 'politique',\n",
       " 'polytechnicien',\n",
       " 'portail',\n",
       " 'portraitiste',\n",
       " 'potier',\n",
       " 'poète',\n",
       " 'poétesse',\n",
       " 'premier',\n",
       " 'première',\n",
       " 'prestidigitateur',\n",
       " 'prieur',\n",
       " 'prince',\n",
       " 'principal',\n",
       " 'prix',\n",
       " 'procureur',\n",
       " 'producteur',\n",
       " 'productrice',\n",
       " 'professeur',\n",
       " 'promoteur',\n",
       " 'propriétaire',\n",
       " 'protestant',\n",
       " 'précurseur',\n",
       " 'prédicateur',\n",
       " 'préfet',\n",
       " 'prélat',\n",
       " 'prépara',\n",
       " 'présida',\n",
       " 'président',\n",
       " 'présidente',\n",
       " 'prévôt',\n",
       " 'prêtre',\n",
       " 'psychanaliste',\n",
       " 'psychanalyste',\n",
       " 'psychiatre',\n",
       " 'publiciste',\n",
       " 'puis',\n",
       " 'père',\n",
       " 'pédagogue',\n",
       " 'que',\n",
       " 'qui',\n",
       " 'recteur',\n",
       " 'reine',\n",
       " 'remarquable',\n",
       " 'remplacé',\n",
       " 'rendez-',\n",
       " 'reprenant',\n",
       " 'représentant',\n",
       " 'restaurateur',\n",
       " 'reste',\n",
       " 'reçut',\n",
       " 'robert',\n",
       " 'roi dangleterre',\n",
       " 'roi de',\n",
       " 'roi de serbie',\n",
       " 'roi de suède',\n",
       " 'roi des belges',\n",
       " 'roi despagne',\n",
       " 'romancier',\n",
       " 'romancière',\n",
       " 'romaniste',\n",
       " 'rue',\n",
       " 'réalisateur',\n",
       " 'réformateur',\n",
       " 'réfugié',\n",
       " 'réhabilité',\n",
       " 'répertoire',\n",
       " 'résistant',\n",
       " 'résistante',\n",
       " 'révolutionnaire',\n",
       " 'sainte',\n",
       " 'savant',\n",
       " 'saxophoniste',\n",
       " 'sculpteur',\n",
       " 'sculpteurs',\n",
       " 'sculptrice',\n",
       " 'scénariste',\n",
       " 'seconde',\n",
       " 'secrétaire',\n",
       " 'seigneur',\n",
       " 'sentier',\n",
       " 'sergent',\n",
       " 'service municipal',\n",
       " 'serviteur',\n",
       " 'sieur',\n",
       " 'sociale',\n",
       " 'socialiste',\n",
       " 'sociologiste',\n",
       " 'sociologue',\n",
       " 'soeur',\n",
       " 'soldat',\n",
       " 'son',\n",
       " 'sonia',\n",
       " 'sous',\n",
       " 'spécialiste',\n",
       " 'statisticien',\n",
       " 'statuaire',\n",
       " 'subsiste',\n",
       " 'successivement',\n",
       " 'suivant',\n",
       " 'surnommé',\n",
       " 'surréaliste',\n",
       " 'survivant',\n",
       " 'symbole',\n",
       " 'syndicaliste',\n",
       " 'sémiologue',\n",
       " 'sénateur',\n",
       " 'théologien',\n",
       " 'théoricien',\n",
       " 'thérapeutique',\n",
       " 'thérèse',\n",
       " 'titulaire',\n",
       " 'tragédien',\n",
       " 'tragédienne',\n",
       " 'troisième',\n",
       " 'trompettiste',\n",
       " 'tsar',\n",
       " 'typographe',\n",
       " 'ténor',\n",
       " 'unique',\n",
       " 'unis damérique',\n",
       " 'universitaire',\n",
       " 'urbaniste',\n",
       " 'vainqueur',\n",
       " 'vapeur',\n",
       " 'vicaire',\n",
       " 'vice',\n",
       " 'vicomte',\n",
       " 'vicus',\n",
       " 'violoncelliste',\n",
       " 'violoniste',\n",
       " 'virtuose',\n",
       " 'voisinage',\n",
       " 'volontaire',\n",
       " 'voltaire',\n",
       " 'voyageur',\n",
       " 'zoologiste',\n",
       " 'ébéniste',\n",
       " 'économiste',\n",
       " 'écrivain',\n",
       " 'écrivaine',\n",
       " 'éditeur',\n",
       " 'éducateur',\n",
       " 'égyptologue',\n",
       " 'électricien',\n",
       " 'électroradiologiste',\n",
       " 'élu',\n",
       " 'élève',\n",
       " 'émailleur',\n",
       " 'éminent',\n",
       " 'épistolier',\n",
       " 'épistolière',\n",
       " 'érudit',\n",
       " 'établit',\n",
       " 'était',\n",
       " 'était contrôleur des',\n",
       " 'était propriétaire',\n",
       " 'état',\n",
       " 'étoiles',\n",
       " 'étroit',\n",
       " 'étudiant',\n",
       " 'évêque'}"
      ]
     },
     "execution_count": 67,
     "metadata": {},
     "output_type": "execute_result"
    }
   ],
   "source": [
    "jobs_list"
   ]
  },
  {
   "cell_type": "markdown",
   "metadata": {},
   "source": [
    "# 4. Dates"
   ]
  },
  {
   "cell_type": "code",
   "execution_count": null,
   "metadata": {},
   "outputs": [],
   "source": [
    "df.loc[df['HISTORIQUE'].str.contains('\\('), \n",
    "       'Parenthèses'] = df.loc[df['HISTORIQUE'].str.contains('\\('), 'HISTORIQUE']\\\n",
    "                                                    .apply(lambda x: re.search(r'\\((.*?)\\)',x).group(1))\n",
    "df.loc[~df['Parenthèses'].isna(), 'Date_fin'] = df.loc[~df['Parenthèses'].isna(), 'Parenthèses'].apply(lambda x: re.search(r'\\d{4}(?!\\d)', x))"
   ]
  },
  {
   "cell_type": "code",
   "execution_count": null,
   "metadata": {},
   "outputs": [],
   "source": [
    "df['Dates_parenthèses'] = df['Parenthèses'].astype(str).apply(lambda x: re.findall('\\d+', x))"
   ]
  },
  {
   "cell_type": "code",
   "execution_count": null,
   "metadata": {},
   "outputs": [],
   "source": [
    "df['Nb_dates'] = df['Dates_parenthèses'].apply(lambda x: len(x))\n",
    "df.loc[df['Nb_dates']==2, 'Personne'] = 1"
   ]
  }
 ],
 "metadata": {
  "kernelspec": {
   "display_name": "Python 3",
   "language": "python",
   "name": "python3"
  },
  "language_info": {
   "codemirror_mode": {
    "name": "ipython",
    "version": 3
   },
   "file_extension": ".py",
   "mimetype": "text/x-python",
   "name": "python",
   "nbconvert_exporter": "python",
   "pygments_lexer": "ipython3",
   "version": "3.7.3"
  }
 },
 "nbformat": 4,
 "nbformat_minor": 2
}
