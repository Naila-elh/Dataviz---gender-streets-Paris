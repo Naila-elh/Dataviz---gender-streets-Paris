{
 "cells": [
  {
   "cell_type": "code",
   "execution_count": 1,
   "metadata": {
    "ExecuteTime": {
     "end_time": "2020-03-30T15:44:43.195560Z",
     "start_time": "2020-03-30T15:44:42.708088Z"
    }
   },
   "outputs": [],
   "source": [
    "import pandas as pd\n",
    "import urllib\n",
    "import os\n",
    "import string\n",
    "import re\n",
    "import numpy as np"
   ]
  },
  {
   "cell_type": "code",
   "execution_count": 2,
   "metadata": {
    "ExecuteTime": {
     "end_time": "2020-03-30T15:44:43.339704Z",
     "start_time": "2020-03-30T15:44:43.195560Z"
    }
   },
   "outputs": [
    {
     "data": {
      "text/html": [
       "<div>\n",
       "<style scoped>\n",
       "    .dataframe tbody tr th:only-of-type {\n",
       "        vertical-align: middle;\n",
       "    }\n",
       "\n",
       "    .dataframe tbody tr th {\n",
       "        vertical-align: top;\n",
       "    }\n",
       "\n",
       "    .dataframe thead th {\n",
       "        text-align: right;\n",
       "    }\n",
       "</style>\n",
       "<table border=\"1\" class=\"dataframe\">\n",
       "  <thead>\n",
       "    <tr style=\"text-align: right;\">\n",
       "      <th></th>\n",
       "      <th>DATE ARRET</th>\n",
       "      <th>CDGI</th>\n",
       "      <th>QUARTIER</th>\n",
       "      <th>TYPE DE VOIE</th>\n",
       "      <th>PREFIXE de VOIE</th>\n",
       "      <th>NOM de VOIE</th>\n",
       "      <th>Libellé VOIE</th>\n",
       "      <th>CVOIE</th>\n",
       "      <th>HISTORIQUE</th>\n",
       "      <th>Personne</th>\n",
       "      <th>...</th>\n",
       "      <th>profession</th>\n",
       "      <th>profession2</th>\n",
       "      <th>profession3</th>\n",
       "      <th>LARGEUR</th>\n",
       "      <th>LONG</th>\n",
       "      <th>DETAIL</th>\n",
       "      <th>ARRONDISSEMENT</th>\n",
       "      <th>STATUT PRESUME</th>\n",
       "      <th>DEBUT</th>\n",
       "      <th>FIN</th>\n",
       "    </tr>\n",
       "  </thead>\n",
       "  <tbody>\n",
       "    <tr>\n",
       "      <th>0</th>\n",
       "      <td>1864-02-03T00:53:28+00:53</td>\n",
       "      <td>4166</td>\n",
       "      <td>Roquette.</td>\n",
       "      <td>rue</td>\n",
       "      <td>NaN</td>\n",
       "      <td>gerbier</td>\n",
       "      <td>rue Gerbier</td>\n",
       "      <td>4112</td>\n",
       "      <td>Pierre Jean Baptiste Gerbier (1725-1788), avoc...</td>\n",
       "      <td>Pierre Jean Baptiste Gerbier</td>\n",
       "      <td>...</td>\n",
       "      <td>avocat</td>\n",
       "      <td>NaN</td>\n",
       "      <td>NaN</td>\n",
       "      <td>13.0</td>\n",
       "      <td>174.0</td>\n",
       "      <td>Ouverture et alignements (non retenus au POS e...</td>\n",
       "      <td>XIe</td>\n",
       "      <td>voie publique</td>\n",
       "      <td>rue de la Folie-Regnault, 15.</td>\n",
       "      <td>rue de la Roquette, 168 bis.</td>\n",
       "    </tr>\n",
       "    <tr>\n",
       "      <th>1</th>\n",
       "      <td>NaN</td>\n",
       "      <td>4994</td>\n",
       "      <td>Saint-Ambroise.</td>\n",
       "      <td>cité</td>\n",
       "      <td>NaN</td>\n",
       "      <td>joly</td>\n",
       "      <td>cité Joly</td>\n",
       "      <td>4886</td>\n",
       "      <td>M. Joly, propriétaire.</td>\n",
       "      <td>M. Joly</td>\n",
       "      <td>...</td>\n",
       "      <td>propriétaire</td>\n",
       "      <td>NaN</td>\n",
       "      <td>NaN</td>\n",
       "      <td>12.0</td>\n",
       "      <td>135.0</td>\n",
       "      <td>Classement, alignements (non retenus au POS et...</td>\n",
       "      <td>XIe</td>\n",
       "      <td>voie publique</td>\n",
       "      <td>rue du Chemin Vert, 121.</td>\n",
       "      <td>en impasse</td>\n",
       "    </tr>\n",
       "    <tr>\n",
       "      <th>2</th>\n",
       "      <td>NaN</td>\n",
       "      <td>5441</td>\n",
       "      <td>Saint-Ambroise.</td>\n",
       "      <td>rue</td>\n",
       "      <td>NaN</td>\n",
       "      <td>léchevin</td>\n",
       "      <td>rue Léchevin</td>\n",
       "      <td>5376</td>\n",
       "      <td>M. Léchevin, propriétaire.\\nHistorique. ~ Avan...</td>\n",
       "      <td>M. Léchevin</td>\n",
       "      <td>...</td>\n",
       "      <td>propriétaire</td>\n",
       "      <td>NaN</td>\n",
       "      <td>NaN</td>\n",
       "      <td>15.0</td>\n",
       "      <td>73.0</td>\n",
       "      <td>Classement, alignements (non retenus au POS et...</td>\n",
       "      <td>XIe</td>\n",
       "      <td>voie publique</td>\n",
       "      <td>avenue Parmentier, 64.</td>\n",
       "      <td>passage Saint-Ambroise, 9 bis.</td>\n",
       "    </tr>\n",
       "    <tr>\n",
       "      <th>3</th>\n",
       "      <td>NaN</td>\n",
       "      <td>8208</td>\n",
       "      <td>Folie-Méricourt. Saint-Ambroise. Roquette.</td>\n",
       "      <td>boulevard</td>\n",
       "      <td>NaN</td>\n",
       "      <td>richard lenoir</td>\n",
       "      <td>boulevard Richard Lenoir</td>\n",
       "      <td>8197</td>\n",
       "      <td>François Richard (1765-1839), manufacturier d'...</td>\n",
       "      <td>François Richard</td>\n",
       "      <td>...</td>\n",
       "      <td>manufacturier</td>\n",
       "      <td>NaN</td>\n",
       "      <td>NaN</td>\n",
       "      <td>60.0</td>\n",
       "      <td>1500.0</td>\n",
       "      <td>Alignements (non retenus au POS et non repris ...</td>\n",
       "      <td>XIe</td>\n",
       "      <td>voie publique</td>\n",
       "      <td>boulevard Beaumarchais, 2 et place de la Basti...</td>\n",
       "      <td>avenue de la République, 22, rue Rampon et pla...</td>\n",
       "    </tr>\n",
       "    <tr>\n",
       "      <th>4</th>\n",
       "      <td>1885-10-11T00:53:28+00:53</td>\n",
       "      <td>9057</td>\n",
       "      <td>Saint-Ambroise.</td>\n",
       "      <td>rue</td>\n",
       "      <td>NaN</td>\n",
       "      <td>spinoza</td>\n",
       "      <td>rue Spinoza</td>\n",
       "      <td>8671</td>\n",
       "      <td>Baruch Spinoza (1632-1677), philosophe holland...</td>\n",
       "      <td>Baruch Spinoza</td>\n",
       "      <td>...</td>\n",
       "      <td>philosophe</td>\n",
       "      <td>NaN</td>\n",
       "      <td>NaN</td>\n",
       "      <td>12.0</td>\n",
       "      <td>77.0</td>\n",
       "      <td>Ouverture, alignements (non retenus au POS et ...</td>\n",
       "      <td>XIe</td>\n",
       "      <td>voie publique</td>\n",
       "      <td>avenue de la République, 103.</td>\n",
       "      <td>boulevard de Ménilmontant, 81.</td>\n",
       "    </tr>\n",
       "  </tbody>\n",
       "</table>\n",
       "<p>5 rows × 22 columns</p>\n",
       "</div>"
      ],
      "text/plain": [
       "                  DATE ARRET  CDGI  \\\n",
       "0  1864-02-03T00:53:28+00:53  4166   \n",
       "1                        NaN  4994   \n",
       "2                        NaN  5441   \n",
       "3                        NaN  8208   \n",
       "4  1885-10-11T00:53:28+00:53  9057   \n",
       "\n",
       "                                     QUARTIER TYPE DE VOIE PREFIXE de VOIE  \\\n",
       "0                                   Roquette.          rue             NaN   \n",
       "1                             Saint-Ambroise.         cité             NaN   \n",
       "2                             Saint-Ambroise.          rue             NaN   \n",
       "3  Folie-Méricourt. Saint-Ambroise. Roquette.    boulevard             NaN   \n",
       "4                             Saint-Ambroise.          rue             NaN   \n",
       "\n",
       "      NOM de VOIE              Libellé VOIE CVOIE  \\\n",
       "0         gerbier               rue Gerbier  4112   \n",
       "1            joly                 cité Joly  4886   \n",
       "2        léchevin              rue Léchevin  5376   \n",
       "3  richard lenoir  boulevard Richard Lenoir  8197   \n",
       "4         spinoza               rue Spinoza  8671   \n",
       "\n",
       "                                          HISTORIQUE  \\\n",
       "0  Pierre Jean Baptiste Gerbier (1725-1788), avoc...   \n",
       "1                             M. Joly, propriétaire.   \n",
       "2  M. Léchevin, propriétaire.\\nHistorique. ~ Avan...   \n",
       "3  François Richard (1765-1839), manufacturier d'...   \n",
       "4  Baruch Spinoza (1632-1677), philosophe holland...   \n",
       "\n",
       "                       Personne  ...     profession  profession2 profession3  \\\n",
       "0  Pierre Jean Baptiste Gerbier  ...         avocat          NaN         NaN   \n",
       "1                       M. Joly  ...   propriétaire          NaN         NaN   \n",
       "2                   M. Léchevin  ...   propriétaire          NaN         NaN   \n",
       "3              François Richard  ...  manufacturier          NaN         NaN   \n",
       "4                Baruch Spinoza  ...     philosophe          NaN         NaN   \n",
       "\n",
       "  LARGEUR    LONG                                             DETAIL  \\\n",
       "0    13.0   174.0  Ouverture et alignements (non retenus au POS e...   \n",
       "1    12.0   135.0  Classement, alignements (non retenus au POS et...   \n",
       "2    15.0    73.0  Classement, alignements (non retenus au POS et...   \n",
       "3    60.0  1500.0  Alignements (non retenus au POS et non repris ...   \n",
       "4    12.0    77.0  Ouverture, alignements (non retenus au POS et ...   \n",
       "\n",
       "   ARRONDISSEMENT STATUT PRESUME  \\\n",
       "0             XIe  voie publique   \n",
       "1             XIe  voie publique   \n",
       "2             XIe  voie publique   \n",
       "3             XIe  voie publique   \n",
       "4             XIe  voie publique   \n",
       "\n",
       "                                               DEBUT  \\\n",
       "0                      rue de la Folie-Regnault, 15.   \n",
       "1                           rue du Chemin Vert, 121.   \n",
       "2                             avenue Parmentier, 64.   \n",
       "3  boulevard Beaumarchais, 2 et place de la Basti...   \n",
       "4                      avenue de la République, 103.   \n",
       "\n",
       "                                                 FIN  \n",
       "0                       rue de la Roquette, 168 bis.  \n",
       "1                                         en impasse  \n",
       "2                     passage Saint-Ambroise, 9 bis.  \n",
       "3  avenue de la République, 22, rue Rampon et pla...  \n",
       "4                     boulevard de Ménilmontant, 81.  \n",
       "\n",
       "[5 rows x 22 columns]"
      ]
     },
     "execution_count": 2,
     "metadata": {},
     "output_type": "execute_result"
    }
   ],
   "source": [
    "df = pd.read_csv(\"Data/voies_paris_labelisé.csv\", sep=';', index_col=0)\n",
    "df.head()"
   ]
  },
  {
   "cell_type": "code",
   "execution_count": 3,
   "metadata": {
    "ExecuteTime": {
     "end_time": "2020-03-30T15:44:43.347713Z",
     "start_time": "2020-03-30T15:44:43.342694Z"
    }
   },
   "outputs": [
    {
     "data": {
      "text/plain": [
       "6475"
      ]
     },
     "execution_count": 3,
     "metadata": {},
     "output_type": "execute_result"
    }
   ],
   "source": [
    "len(df)"
   ]
  },
  {
   "cell_type": "markdown",
   "metadata": {},
   "source": [
    "# 1. Clean \"HISTORIQUE\""
   ]
  },
  {
   "cell_type": "markdown",
   "metadata": {},
   "source": [
    "On va utiliser la variable \"HISTORIQUE\", pour extraire des informations relatives à la personne qui a donné son nom à la voie."
   ]
  },
  {
   "cell_type": "code",
   "execution_count": 4,
   "metadata": {
    "ExecuteTime": {
     "end_time": "2020-03-30T15:44:43.378631Z",
     "start_time": "2020-03-30T15:44:43.350690Z"
    }
   },
   "outputs": [],
   "source": [
    "def cleaning_historique() :\n",
    "    df['Libellé VOIE'] = df['Libellé VOIE'].astype(str).apply(lambda x: x.replace('-', ' '))\n",
    "    df['Libellé VOIE'] = df['Libellé VOIE'].astype(str).apply(lambda x: x.replace('et ', ''))\n",
    "    \n",
    "    # Removing expressions \"Origin. du nom\"\n",
    "    removed_expressions = [\"Orig. du nom. ~ \", \"Orig.du nom.~ \", \"orig. du nom. ~\", \"orig. du nom.~ \", \"Orig. Du nom.~\", \"Orig. Du nom. ~\"]\n",
    "    for expression in removed_expressions :\n",
    "        df[\"HISTORIQUE\"] = df['HISTORIQUE'].astype(str).apply(lambda x: x.replace(expression, ''))"
   ]
  },
  {
   "cell_type": "code",
   "execution_count": 5,
   "metadata": {
    "ExecuteTime": {
     "end_time": "2020-03-30T15:44:43.430462Z",
     "start_time": "2020-03-30T15:44:43.379597Z"
    }
   },
   "outputs": [],
   "source": [
    "cleaning_historique()"
   ]
  },
  {
   "cell_type": "markdown",
   "metadata": {},
   "source": [
    "# 2. Voisinages"
   ]
  },
  {
   "cell_type": "markdown",
   "metadata": {},
   "source": [
    "On distingue les rues qui portent des noms d'individus et les autres."
   ]
  },
  {
   "cell_type": "markdown",
   "metadata": {},
   "source": [
    "Plusieurs façons de reconnaître les rues qui portent des noms d'individus :\n",
    "- On a souvent les dates de naissance et mort entre parenthèses pour les rues qui portent des noms de personnes\n",
    "- S'il s'agit d'un propriétaire (qui possédait donc des immeubles dans cette rue), on peut filter avec \"propriétaire\"\n",
    "- Pour certaines rues (plutôt des impasses), on n'a pas la description de la personne, car il s'agit d'une rue au voisinage d'un boulevard par exemple (et l'information sur la personne est disponible à la ligne correspondant au boulevard)\n",
    "- Ou sinon, si on n'a ni l'un ni l'autre, on peut utiliser la liste des prénoms (puisque pour certains individus, on n'a ni les autres informations ci-dessus)"
   ]
  },
  {
   "cell_type": "code",
   "execution_count": 7,
   "metadata": {
    "ExecuteTime": {
     "end_time": "2020-03-30T15:44:43.518684Z",
     "start_time": "2020-03-30T15:44:43.471467Z"
    }
   },
   "outputs": [],
   "source": [
    "# dataframe voisinages: on remplace la \"Rues\" par la vraie référence à la rue\n",
    "voisinages = df.loc[(df['HISTORIQUE'].str.startswith(\"Voisinage\")) | (df['HISTORIQUE'].str.startswith(\"Voir\")) | (df['Libellé VOIE'] == 'boulevard Carnot')].reset_index()\n",
    "voisinages[\"Voisinage rue\"] = voisinages[\"HISTORIQUE\"]\n",
    "voisinages = pd.merge(voisinages.loc[:, voisinages.columns != 'HISTORIQUE'], \n",
    "                      df.loc[(~df['HISTORIQUE'].str.startswith(\"Voisinage\")) & (~df['HISTORIQUE'].str.startswith(\"Voir\")), ['HISTORIQUE', 'NOM de VOIE']], \n",
    "                      how='left', \n",
    "                      on='NOM de VOIE')"
   ]
  },
  {
   "cell_type": "code",
   "execution_count": 8,
   "metadata": {
    "ExecuteTime": {
     "end_time": "2020-03-30T15:44:43.531718Z",
     "start_time": "2020-03-30T15:44:43.521666Z"
    }
   },
   "outputs": [
    {
     "data": {
      "text/plain": [
       "array(['arts', 'verdun', 'ménilmontant', 'hôtel de ville', 'tournelle',\n",
       "       'ermitage', 'terrasse', 'bercy', 'saint-denis', 'monceau',\n",
       "       'gravelle', 'invalides', 'gravilliers', 'chapelle', 'carnot',\n",
       "       'saint-michel', 'rome', 'austerlitz', 'saint-paul', 'louvre',\n",
       "       'ranelagh', 'clichy', 'longchamp', 'havre', 'saint-jacques',\n",
       "       'saint-mandé', 'bel air', 'saint-fargeau', 'saint-charles',\n",
       "       'saint-martin', 'caire', 'parc', 'saint-eustache', 'iéna',\n",
       "       'porte de vanves', 'reuilly', 'vendôme', 'peupliers'], dtype=object)"
      ]
     },
     "execution_count": 8,
     "metadata": {},
     "output_type": "execute_result"
    }
   ],
   "source": [
    "voisinages_dup = voisinages[voisinages['Libellé VOIE'].duplicated(keep=False)]\n",
    "voisinages_dup['NOM de VOIE'].unique()"
   ]
  },
  {
   "cell_type": "code",
   "execution_count": 9,
   "metadata": {
    "ExecuteTime": {
     "end_time": "2020-03-30T15:44:43.619483Z",
     "start_time": "2020-03-30T15:44:43.537702Z"
    }
   },
   "outputs": [],
   "source": [
    "#On corrige à la main les doublons pour les personnes ; pour le reste, on prendra juste le 1er.\n",
    "def correction_main(personnes, type_de_voie):\n",
    "    for personne in personnes:\n",
    "        df.loc[\n",
    "            (df['NOM de VOIE']==personne), 'HISTORIQUE'] = df.loc[\n",
    "            (df['NOM de VOIE']==personne) & (df['TYPE DE VOIE']==type_de_voie), 'HISTORIQUE'].values\n",
    "\n",
    "correction_main(['anatole france', 'molière', 'carnot'], 'avenue')\n",
    "correction_main(['voltaire'], 'boulevard')\n",
    "correction_main(['chartres', 'orléans'], 'galerie')\n",
    "correction_main(['falguière', 'dauphine', 'sorbonne'], 'rue')\n",
    "correction_main(['montebello'], 'quai')\n",
    "# exception car il y a 2 montmorency :\n",
    "df.loc[df['Libellé VOIE']=='avenue de Montmorency', 'HISTORIQUE'] = df.loc[df['Libellé VOIE']=='boulevard de Montmorency', 'HISTORIQUE'].values"
   ]
  },
  {
   "cell_type": "code",
   "execution_count": 10,
   "metadata": {
    "ExecuteTime": {
     "end_time": "2020-03-30T15:44:43.631459Z",
     "start_time": "2020-03-30T15:44:43.622475Z"
    }
   },
   "outputs": [],
   "source": [
    "# On a corrigé directement dans le df, donc on supprime ces valeurs de voisinages\n",
    "voisinages = voisinages[~voisinages['NOM de VOIE'].isin(['anatole france', 'molière', 'carnot', 'voltaire', 'chartres', 'orléans', 'falguière', 'dauphine', 'sorbonne', 'montebello', 'montmorency'])]\n",
    "\n",
    "# Suppression doublons \n",
    "voisinages = voisinages.drop_duplicates(subset='index', keep=\"first\")\n",
    "voisinages = voisinages.set_index(\"index\")\n",
    "voisinages.index.name=None"
   ]
  },
  {
   "cell_type": "code",
   "execution_count": 11,
   "metadata": {
    "ExecuteTime": {
     "end_time": "2020-03-30T15:44:43.678709Z",
     "start_time": "2020-03-30T15:44:43.634450Z"
    }
   },
   "outputs": [],
   "source": [
    "df = df.merge(voisinages.loc[:, ['HISTORIQUE']], how='left', left_index=True, right_index=True)\n",
    "df['HISTORIQUE']=np.where(df['HISTORIQUE_y'].isna(), df['HISTORIQUE_x'], df['HISTORIQUE_y'])\n",
    "df = df.drop(columns=['HISTORIQUE_x', 'HISTORIQUE_y'])"
   ]
  },
  {
   "cell_type": "code",
   "execution_count": 12,
   "metadata": {
    "ExecuteTime": {
     "end_time": "2020-03-30T15:44:43.708759Z",
     "start_time": "2020-03-30T15:44:43.679673Z"
    }
   },
   "outputs": [
    {
     "data": {
      "text/plain": [
       "Index(['DATE ARRET', 'CDGI', 'QUARTIER', 'TYPE DE VOIE', 'PREFIXE de VOIE',\n",
       "       'NOM de VOIE', 'Libellé VOIE', 'CVOIE', 'Personne', 'Dates', 'Dates2',\n",
       "       'profession', 'profession2', 'profession3', 'LARGEUR', 'LONG', 'DETAIL',\n",
       "       'ARRONDISSEMENT', 'STATUT PRESUME', 'DEBUT', 'FIN', 'HISTORIQUE'],\n",
       "      dtype='object')"
      ]
     },
     "execution_count": 12,
     "metadata": {},
     "output_type": "execute_result"
    }
   ],
   "source": [
    "df.columns"
   ]
  },
  {
   "cell_type": "code",
   "execution_count": 13,
   "metadata": {
    "ExecuteTime": {
     "end_time": "2020-03-30T15:44:43.883458Z",
     "start_time": "2020-03-30T15:44:43.711712Z"
    }
   },
   "outputs": [],
   "source": [
    "df.to_csv('Data/voies_paris_labelisé.csv', sep=';')"
   ]
  }
 ],
 "metadata": {
  "kernelspec": {
   "display_name": "Python 3",
   "language": "python",
   "name": "python3"
  },
  "language_info": {
   "codemirror_mode": {
    "name": "ipython",
    "version": 3
   },
   "file_extension": ".py",
   "mimetype": "text/x-python",
   "name": "python",
   "nbconvert_exporter": "python",
   "pygments_lexer": "ipython3",
   "version": "3.7.3"
  }
 },
 "nbformat": 4,
 "nbformat_minor": 2
}
